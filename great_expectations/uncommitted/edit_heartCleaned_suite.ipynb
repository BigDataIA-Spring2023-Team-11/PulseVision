{
 "cells": [
  {
   "cell_type": "markdown",
   "id": "cb2e2926",
   "metadata": {},
   "source": [
    "# Edit Your Expectation Suite\n",
    "Use this notebook to recreate and modify your expectation suite:\n",
    "\n",
    "**Expectation Suite Name**: `heartCleaned_suite`\n"
   ]
  },
  {
   "cell_type": "code",
   "execution_count": 1,
   "id": "8ee30bef",
   "metadata": {},
   "outputs": [
    {
     "name": "stdout",
     "output_type": "stream",
     "text": [
      "2023-04-25T19:05:42-0400 - INFO - Great Expectations logging enabled at 20 level by JupyterUX module.\n",
      "2023-04-25T19:05:42-0400 - INFO - FileDataContext loading zep config\n",
      "2023-04-25T19:05:42-0400 - INFO - GxConfig.parse_yaml() failed with errors - [{'loc': ('xdatasources',), 'msg': 'field required', 'type': 'value_error.missing'}]\n",
      "2023-04-25T19:05:42-0400 - INFO - GxConfig.parse_yaml() returning empty `xdatasources`\n",
      "2023-04-25T19:05:42-0400 - INFO - Loading 'datasources' ->\n",
      "{}\n",
      "2023-04-25T19:05:42-0400 - INFO - Loaded 'datasources' ->\n",
      "{}\n",
      "Loaded ExpectationSuite \"heartCleaned_suite\" containing 63 expectations.\n"
     ]
    }
   ],
   "source": [
    "import datetime\n",
    "\n",
    "import pandas as pd\n",
    "\n",
    "import great_expectations as gx\n",
    "import great_expectations.jupyter_ux\n",
    "from great_expectations.core.expectation_configuration import ExpectationConfiguration\n",
    "from great_expectations.data_context.types.resource_identifiers import ExpectationSuiteIdentifier\n",
    "from great_expectations.exceptions import DataContextError\n",
    "\n",
    "context = gx.get_context()\n",
    "\n",
    "\n",
    "# Feel free to change the name of your suite here. Renaming this will not remove the other one.\n",
    "expectation_suite_name = \"heartCleaned_suite\"\n",
    "try:\n",
    "    suite = context.get_expectation_suite(expectation_suite_name=expectation_suite_name)\n",
    "    print(f'Loaded ExpectationSuite \"{suite.expectation_suite_name}\" containing {len(suite.expectations)} expectations.')\n",
    "except DataContextError:\n",
    "    suite = context.add_expectation_suite(expectation_suite_name=expectation_suite_name)\n",
    "    print(f'Created ExpectationSuite \"{suite.expectation_suite_name}\".')"
   ]
  },
  {
   "cell_type": "markdown",
   "id": "c9700fa5",
   "metadata": {},
   "source": [
    "## Create & Edit Expectations\n",
    "\n",
    "\n",
    "You are adding Expectation configurations to the suite. Since you selected manual mode, there is no sample batch of data and no validation happens during this process. See our documentation for more info and examples: **[How to create a new Expectation Suite without a sample batch](https://docs.greatexpectations.io/docs/guides/expectations/how_to_create_and_edit_expectations_based_on_domain_knowledge_without_inspecting_data_directly)**.\n",
    "\n",
    "Note that if you do use interactive mode you may specify a sample batch of data to use when creating your Expectation Suite. You can then use a `validator` to get immediate feedback on your Expectations against your specified sample batch.\n",
    "\n",
    "\n",
    "You can see all the available expectations in the **[expectation gallery](https://greatexpectations.io/expectations)**."
   ]
  },
  {
   "cell_type": "markdown",
   "id": "bba4a45e",
   "metadata": {},
   "source": [
    "### Table Expectation(s)"
   ]
  },
  {
   "cell_type": "code",
   "execution_count": 2,
   "id": "7df674dc",
   "metadata": {},
   "outputs": [
    {
     "data": {
      "text/plain": [
       "{\"expectation_type\": \"expect_table_row_count_to_be_between\", \"meta\": {\"profiler_details\": {\"metric_configuration\": {\"domain_kwargs\": {}, \"metric_name\": \"table.row_count\", \"metric_value_kwargs\": null}, \"num_batches\": 1}}, \"kwargs\": {\"max_value\": 39452, \"min_value\": 39452}}"
      ]
     },
     "execution_count": 2,
     "metadata": {},
     "output_type": "execute_result"
    }
   ],
   "source": [
    "\n",
    "expectation_configuration = ExpectationConfiguration(**{\n",
    "  \"meta\": {\n",
    "    \"profiler_details\": {\n",
    "      \"metric_configuration\": {\n",
    "        \"domain_kwargs\": {},\n",
    "        \"metric_name\": \"table.row_count\",\n",
    "        \"metric_value_kwargs\": None\n",
    "      },\n",
    "      \"num_batches\": 1\n",
    "    }\n",
    "  },\n",
    "  \"kwargs\": {\n",
    "    \"max_value\": 39452,\n",
    "    \"min_value\": 39452\n",
    "  },\n",
    "  \"expectation_type\": \"expect_table_row_count_to_be_between\"\n",
    "})\n",
    "suite.add_expectation(expectation_configuration=expectation_configuration)"
   ]
  },
  {
   "cell_type": "code",
   "execution_count": 3,
   "id": "f72b06c4",
   "metadata": {},
   "outputs": [
    {
     "data": {
      "text/plain": [
       "{\"expectation_type\": \"expect_table_columns_to_match_set\", \"meta\": {\"profiler_details\": {\"success_ratio\": 1.0}}, \"kwargs\": {\"column_set\": [\"Diabetes\", \"Age\", \"Race\", \"Stroke\", \"BMI\", \"HeavyAlcoholConsump\", \"Fruits\", \"PhysicalHlth\", \"GeneralHealth\", \"Education\", \"Sex\", \"PhysicalActivity\", \"Smoker\", \"AnyHealthcare\", \"HighBP\", \"HighCholesterol\", \"HeartDiseaseorAttack\", \"Asthama\", \"DifficultyWalk\", \"KidneyDisease\", \"Obese\", \"Veggies\", \"SkinCancer\", \"NoDocbcozCost\", \"CholesterolCheck\", \"Income\", \"MentalHealth\"]}}"
      ]
     },
     "execution_count": 3,
     "metadata": {},
     "output_type": "execute_result"
    }
   ],
   "source": [
    "\n",
    "expectation_configuration = ExpectationConfiguration(**{\n",
    "  \"meta\": {\n",
    "    \"profiler_details\": {\n",
    "      \"success_ratio\": 1.0\n",
    "    }\n",
    "  },\n",
    "  \"kwargs\": {\n",
    "    \"column_set\": [\n",
    "      \"Diabetes\",\n",
    "      \"Age\",\n",
    "      \"Race\",\n",
    "      \"Stroke\",\n",
    "      \"BMI\",\n",
    "      \"HeavyAlcoholConsump\",\n",
    "      \"Fruits\",\n",
    "      \"PhysicalHlth\",\n",
    "      \"GeneralHealth\",\n",
    "      \"Education\",\n",
    "      \"Sex\",\n",
    "      \"PhysicalActivity\",\n",
    "      \"Smoker\",\n",
    "      \"AnyHealthcare\",\n",
    "      \"HighBP\",\n",
    "      \"HighCholesterol\",\n",
    "      \"HeartDiseaseorAttack\",\n",
    "      \"Asthama\",\n",
    "      \"DifficultyWalk\",\n",
    "      \"KidneyDisease\",\n",
    "      \"Obese\",\n",
    "      \"Veggies\",\n",
    "      \"SkinCancer\",\n",
    "      \"NoDocbcozCost\",\n",
    "      \"CholesterolCheck\",\n",
    "      \"Income\",\n",
    "      \"MentalHealth\"\n",
    "    ]\n",
    "  },\n",
    "  \"expectation_type\": \"expect_table_columns_to_match_set\"\n",
    "})\n",
    "suite.add_expectation(expectation_configuration=expectation_configuration)"
   ]
  },
  {
   "cell_type": "markdown",
   "id": "b0af8190",
   "metadata": {},
   "source": [
    "### Column Expectation(s)"
   ]
  },
  {
   "cell_type": "markdown",
   "id": "f5ca7725",
   "metadata": {},
   "source": [
    "#### `Diabetes`"
   ]
  },
  {
   "cell_type": "code",
   "execution_count": 4,
   "id": "fd3a86cf",
   "metadata": {},
   "outputs": [
    {
     "data": {
      "text/plain": [
       "{\"expectation_type\": \"expect_column_values_to_not_be_null\", \"meta\": {\"profiler_details\": {\"metric_configuration\": {\"domain_kwargs\": {\"column\": \"Diabetes\"}, \"metric_name\": \"column_values.nonnull.unexpected_count\", \"metric_value_kwargs\": null}, \"num_batches\": 1}}, \"kwargs\": {\"column\": \"Diabetes\"}}"
      ]
     },
     "execution_count": 4,
     "metadata": {},
     "output_type": "execute_result"
    }
   ],
   "source": [
    "\n",
    "expectation_configuration = ExpectationConfiguration(**{\n",
    "  \"meta\": {\n",
    "    \"profiler_details\": {\n",
    "      \"metric_configuration\": {\n",
    "        \"domain_kwargs\": {\n",
    "          \"column\": \"Diabetes\"\n",
    "        },\n",
    "        \"metric_name\": \"column_values.nonnull.unexpected_count\",\n",
    "        \"metric_value_kwargs\": None\n",
    "      },\n",
    "      \"num_batches\": 1\n",
    "    }\n",
    "  },\n",
    "  \"kwargs\": {\n",
    "    \"column\": \"Diabetes\"\n",
    "  },\n",
    "  \"expectation_type\": \"expect_column_values_to_not_be_null\"\n",
    "})\n",
    "suite.add_expectation(expectation_configuration=expectation_configuration)"
   ]
  },
  {
   "cell_type": "code",
   "execution_count": 5,
   "id": "e89a2e09",
   "metadata": {},
   "outputs": [
    {
     "data": {
      "text/plain": [
       "{\"expectation_type\": \"expect_column_most_common_value_to_be_in_set\", \"meta\": {\"UserConfigurableProfiler\": {\"confidence\": \"very low\"}}, \"kwargs\": {\"column\": \"Diabetes\", \"value_set\": [0, 1]}}"
      ]
     },
     "execution_count": 5,
     "metadata": {},
     "output_type": "execute_result"
    }
   ],
   "source": [
    "\n",
    "expectation_configuration = ExpectationConfiguration(**{\n",
    "  \"meta\": {\n",
    "    \"UserConfigurableProfiler\": {\n",
    "      \"confidence\": \"very low\"\n",
    "    }\n",
    "  },\n",
    "  \"kwargs\": {\n",
    "    \"column\": \"Diabetes\",\n",
    "    \"value_set\": [\n",
    "      0,\n",
    "      1\n",
    "    ]\n",
    "  },\n",
    "  \"expectation_type\": \"expect_column_most_common_value_to_be_in_set\"\n",
    "})\n",
    "suite.add_expectation(expectation_configuration=expectation_configuration)"
   ]
  },
  {
   "cell_type": "markdown",
   "id": "70ac015a",
   "metadata": {},
   "source": [
    "#### `Age`"
   ]
  },
  {
   "cell_type": "code",
   "execution_count": 6,
   "id": "ce73d5f0",
   "metadata": {},
   "outputs": [
    {
     "data": {
      "text/plain": [
       "{\"expectation_type\": \"expect_column_values_to_not_be_null\", \"meta\": {\"profiler_details\": {\"metric_configuration\": {\"domain_kwargs\": {\"column\": \"Age\"}, \"metric_name\": \"column_values.nonnull.unexpected_count\", \"metric_value_kwargs\": null}, \"num_batches\": 1}}, \"kwargs\": {\"column\": \"Age\"}}"
      ]
     },
     "execution_count": 6,
     "metadata": {},
     "output_type": "execute_result"
    }
   ],
   "source": [
    "\n",
    "expectation_configuration = ExpectationConfiguration(**{\n",
    "  \"meta\": {\n",
    "    \"profiler_details\": {\n",
    "      \"metric_configuration\": {\n",
    "        \"domain_kwargs\": {\n",
    "          \"column\": \"Age\"\n",
    "        },\n",
    "        \"metric_name\": \"column_values.nonnull.unexpected_count\",\n",
    "        \"metric_value_kwargs\": None\n",
    "      },\n",
    "      \"num_batches\": 1\n",
    "    }\n",
    "  },\n",
    "  \"kwargs\": {\n",
    "    \"column\": \"Age\"\n",
    "  },\n",
    "  \"expectation_type\": \"expect_column_values_to_not_be_null\"\n",
    "})\n",
    "suite.add_expectation(expectation_configuration=expectation_configuration)"
   ]
  },
  {
   "cell_type": "code",
   "execution_count": 7,
   "id": "0a034d3a",
   "metadata": {},
   "outputs": [
    {
     "data": {
      "text/plain": [
       "{\"expectation_type\": \"expect_column_distinct_values_to_be_in_set\", \"meta\": {\"UserConfigurableProfiler\": {\"confidence\": \"very low\"}}, \"kwargs\": {\"column\": \"Age\", \"value_set\": [1, 2, 3, 4, 5, 6, 7, 8, 9, 10, 11, 12, 13]}}"
      ]
     },
     "execution_count": 7,
     "metadata": {},
     "output_type": "execute_result"
    }
   ],
   "source": [
    "\n",
    "expectation_configuration = ExpectationConfiguration(**{\n",
    "  \"meta\": {\n",
    "    \"UserConfigurableProfiler\": {\n",
    "      \"confidence\": \"very low\"\n",
    "    }\n",
    "  },\n",
    "  \"kwargs\": {\n",
    "    \"column\": \"Age\",\n",
    "    \"value_set\": [\n",
    "      1,\n",
    "      2,\n",
    "      3,\n",
    "      4,\n",
    "      5,\n",
    "      6,\n",
    "      7,\n",
    "      8,\n",
    "      9,\n",
    "      10,\n",
    "      11,\n",
    "      12,\n",
    "      13\n",
    "    ]\n",
    "  },\n",
    "  \"expectation_type\": \"expect_column_distinct_values_to_be_in_set\"\n",
    "})\n",
    "suite.add_expectation(expectation_configuration=expectation_configuration)"
   ]
  },
  {
   "cell_type": "code",
   "execution_count": 8,
   "id": "47f69117",
   "metadata": {},
   "outputs": [
    {
     "data": {
      "text/plain": [
       "{\"expectation_type\": \"expect_column_most_common_value_to_be_in_set\", \"meta\": {\"UserConfigurableProfiler\": {\"confidence\": \"very low\"}}, \"kwargs\": {\"column\": \"Age\", \"value_set\": [1, 2, 3, 4, 5, 6, 7, 8, 9, 10, 11, 12, 13]}}"
      ]
     },
     "execution_count": 8,
     "metadata": {},
     "output_type": "execute_result"
    }
   ],
   "source": [
    "\n",
    "expectation_configuration = ExpectationConfiguration(**{\n",
    "  \"meta\": {\n",
    "    \"UserConfigurableProfiler\": {\n",
    "      \"confidence\": \"very low\"\n",
    "    }\n",
    "  },\n",
    "  \"kwargs\": {\n",
    "    \"column\": \"Age\",\n",
    "    \"value_set\": [\n",
    "      1,\n",
    "      2,\n",
    "      3,\n",
    "      4,\n",
    "      5,\n",
    "      6,\n",
    "      7,\n",
    "      8,\n",
    "      9,\n",
    "      10,\n",
    "      11,\n",
    "      12,\n",
    "      13\n",
    "    ]\n",
    "  },\n",
    "  \"expectation_type\": \"expect_column_most_common_value_to_be_in_set\"\n",
    "})\n",
    "suite.add_expectation(expectation_configuration=expectation_configuration)"
   ]
  },
  {
   "cell_type": "markdown",
   "id": "db3f8360",
   "metadata": {},
   "source": [
    "#### `Race`"
   ]
  },
  {
   "cell_type": "code",
   "execution_count": 9,
   "id": "4b6efa38",
   "metadata": {},
   "outputs": [
    {
     "data": {
      "text/plain": [
       "{\"expectation_type\": \"expect_column_values_to_not_be_null\", \"meta\": {\"profiler_details\": {\"metric_configuration\": {\"domain_kwargs\": {\"column\": \"Race\"}, \"metric_name\": \"column_values.nonnull.unexpected_count\", \"metric_value_kwargs\": null}, \"num_batches\": 1}}, \"kwargs\": {\"column\": \"Race\"}}"
      ]
     },
     "execution_count": 9,
     "metadata": {},
     "output_type": "execute_result"
    }
   ],
   "source": [
    "\n",
    "expectation_configuration = ExpectationConfiguration(**{\n",
    "  \"meta\": {\n",
    "    \"profiler_details\": {\n",
    "      \"metric_configuration\": {\n",
    "        \"domain_kwargs\": {\n",
    "          \"column\": \"Race\"\n",
    "        },\n",
    "        \"metric_name\": \"column_values.nonnull.unexpected_count\",\n",
    "        \"metric_value_kwargs\": None\n",
    "      },\n",
    "      \"num_batches\": 1\n",
    "    }\n",
    "  },\n",
    "  \"kwargs\": {\n",
    "    \"column\": \"Race\"\n",
    "  },\n",
    "  \"expectation_type\": \"expect_column_values_to_not_be_null\"\n",
    "})\n",
    "suite.add_expectation(expectation_configuration=expectation_configuration)"
   ]
  },
  {
   "cell_type": "code",
   "execution_count": 10,
   "id": "de8f5721",
   "metadata": {},
   "outputs": [
    {
     "data": {
      "text/plain": [
       "{\"expectation_type\": \"expect_column_distinct_values_to_be_in_set\", \"meta\": {\"UserConfigurableProfiler\": {\"confidence\": \"very low\"}}, \"kwargs\": {\"column\": \"Race\", \"value_set\": [1, 2, 3, 4, 5, 6]}}"
      ]
     },
     "execution_count": 10,
     "metadata": {},
     "output_type": "execute_result"
    }
   ],
   "source": [
    "\n",
    "expectation_configuration = ExpectationConfiguration(**{\n",
    "  \"meta\": {\n",
    "    \"UserConfigurableProfiler\": {\n",
    "      \"confidence\": \"very low\"\n",
    "    }\n",
    "  },\n",
    "  \"kwargs\": {\n",
    "    \"column\": \"Race\",\n",
    "    \"value_set\": [\n",
    "      1,\n",
    "      2,\n",
    "      3,\n",
    "      4,\n",
    "      5,\n",
    "      6\n",
    "    ]\n",
    "  },\n",
    "  \"expectation_type\": \"expect_column_distinct_values_to_be_in_set\"\n",
    "})\n",
    "suite.add_expectation(expectation_configuration=expectation_configuration)"
   ]
  },
  {
   "cell_type": "code",
   "execution_count": 11,
   "id": "98f9ad2e",
   "metadata": {},
   "outputs": [
    {
     "data": {
      "text/plain": [
       "{\"expectation_type\": \"expect_column_most_common_value_to_be_in_set\", \"meta\": {\"UserConfigurableProfiler\": {\"confidence\": \"very low\"}}, \"kwargs\": {\"column\": \"Race\", \"value_set\": [1, 2, 3, 4, 5, 6]}}"
      ]
     },
     "execution_count": 11,
     "metadata": {},
     "output_type": "execute_result"
    }
   ],
   "source": [
    "\n",
    "expectation_configuration = ExpectationConfiguration(**{\n",
    "  \"meta\": {\n",
    "    \"UserConfigurableProfiler\": {\n",
    "      \"confidence\": \"very low\"\n",
    "    }\n",
    "  },\n",
    "  \"kwargs\": {\n",
    "    \"column\": \"Race\",\n",
    "    \"value_set\": [\n",
    "      1,\n",
    "      2,\n",
    "      3,\n",
    "      4,\n",
    "      5,\n",
    "      6\n",
    "    ]\n",
    "  },\n",
    "  \"expectation_type\": \"expect_column_most_common_value_to_be_in_set\"\n",
    "})\n",
    "suite.add_expectation(expectation_configuration=expectation_configuration)"
   ]
  },
  {
   "cell_type": "markdown",
   "id": "72edf473",
   "metadata": {},
   "source": [
    "#### `Stroke`"
   ]
  },
  {
   "cell_type": "code",
   "execution_count": 12,
   "id": "3584b7e6",
   "metadata": {},
   "outputs": [
    {
     "data": {
      "text/plain": [
       "{\"expectation_type\": \"expect_column_values_to_not_be_null\", \"meta\": {\"profiler_details\": {\"metric_configuration\": {\"domain_kwargs\": {\"column\": \"Stroke\"}, \"metric_name\": \"column_values.nonnull.unexpected_count\", \"metric_value_kwargs\": null}, \"num_batches\": 1}}, \"kwargs\": {\"column\": \"Stroke\"}}"
      ]
     },
     "execution_count": 12,
     "metadata": {},
     "output_type": "execute_result"
    }
   ],
   "source": [
    "\n",
    "expectation_configuration = ExpectationConfiguration(**{\n",
    "  \"meta\": {\n",
    "    \"profiler_details\": {\n",
    "      \"metric_configuration\": {\n",
    "        \"domain_kwargs\": {\n",
    "          \"column\": \"Stroke\"\n",
    "        },\n",
    "        \"metric_name\": \"column_values.nonnull.unexpected_count\",\n",
    "        \"metric_value_kwargs\": None\n",
    "      },\n",
    "      \"num_batches\": 1\n",
    "    }\n",
    "  },\n",
    "  \"kwargs\": {\n",
    "    \"column\": \"Stroke\"\n",
    "  },\n",
    "  \"expectation_type\": \"expect_column_values_to_not_be_null\"\n",
    "})\n",
    "suite.add_expectation(expectation_configuration=expectation_configuration)"
   ]
  },
  {
   "cell_type": "code",
   "execution_count": 13,
   "id": "7cdf2b63",
   "metadata": {},
   "outputs": [
    {
     "data": {
      "text/plain": [
       "{\"expectation_type\": \"expect_column_distinct_values_to_be_in_set\", \"meta\": {\"UserConfigurableProfiler\": {\"confidence\": \"very low\"}}, \"kwargs\": {\"column\": \"Stroke\", \"value_set\": [0, 1]}}"
      ]
     },
     "execution_count": 13,
     "metadata": {},
     "output_type": "execute_result"
    }
   ],
   "source": [
    "\n",
    "expectation_configuration = ExpectationConfiguration(**{\n",
    "  \"meta\": {\n",
    "    \"UserConfigurableProfiler\": {\n",
    "      \"confidence\": \"very low\"\n",
    "    }\n",
    "  },\n",
    "  \"kwargs\": {\n",
    "    \"column\": \"Stroke\",\n",
    "    \"value_set\": [\n",
    "      0,\n",
    "      1\n",
    "    ]\n",
    "  },\n",
    "  \"expectation_type\": \"expect_column_distinct_values_to_be_in_set\"\n",
    "})\n",
    "suite.add_expectation(expectation_configuration=expectation_configuration)"
   ]
  },
  {
   "cell_type": "markdown",
   "id": "5b0b72f7",
   "metadata": {},
   "source": [
    "#### `BMI`"
   ]
  },
  {
   "cell_type": "code",
   "execution_count": 14,
   "id": "3c8353ef",
   "metadata": {},
   "outputs": [
    {
     "data": {
      "text/plain": [
       "{\"expectation_type\": \"expect_column_values_to_not_be_null\", \"meta\": {\"profiler_details\": {\"metric_configuration\": {\"domain_kwargs\": {\"column\": \"BMI\"}, \"metric_name\": \"column_values.nonnull.unexpected_count\", \"metric_value_kwargs\": null}, \"num_batches\": 1}}, \"kwargs\": {\"column\": \"BMI\"}}"
      ]
     },
     "execution_count": 14,
     "metadata": {},
     "output_type": "execute_result"
    }
   ],
   "source": [
    "\n",
    "expectation_configuration = ExpectationConfiguration(**{\n",
    "  \"meta\": {\n",
    "    \"profiler_details\": {\n",
    "      \"metric_configuration\": {\n",
    "        \"domain_kwargs\": {\n",
    "          \"column\": \"BMI\"\n",
    "        },\n",
    "        \"metric_name\": \"column_values.nonnull.unexpected_count\",\n",
    "        \"metric_value_kwargs\": None\n",
    "      },\n",
    "      \"num_batches\": 1\n",
    "    }\n",
    "  },\n",
    "  \"kwargs\": {\n",
    "    \"column\": \"BMI\"\n",
    "  },\n",
    "  \"expectation_type\": \"expect_column_values_to_not_be_null\"\n",
    "})\n",
    "suite.add_expectation(expectation_configuration=expectation_configuration)"
   ]
  },
  {
   "cell_type": "code",
   "execution_count": 15,
   "id": "4a41c196",
   "metadata": {},
   "outputs": [
    {
     "data": {
      "text/plain": [
       "{\"expectation_type\": \"expect_column_min_to_be_between\", \"meta\": {\"profiler_details\": {\"metric_configuration\": {\"domain_kwargs\": {\"column\": \"BMI\"}, \"metric_name\": \"column.min\", \"metric_value_kwargs\": null}, \"num_batches\": 1}}, \"kwargs\": {\"column\": \"BMI\", \"max_value\": 99, \"min_value\": 0, \"strict_max\": false, \"strict_min\": false}}"
      ]
     },
     "execution_count": 15,
     "metadata": {},
     "output_type": "execute_result"
    }
   ],
   "source": [
    "\n",
    "expectation_configuration = ExpectationConfiguration(**{\n",
    "  \"meta\": {\n",
    "    \"profiler_details\": {\n",
    "      \"metric_configuration\": {\n",
    "        \"domain_kwargs\": {\n",
    "          \"column\": \"BMI\"\n",
    "        },\n",
    "        \"metric_name\": \"column.min\",\n",
    "        \"metric_value_kwargs\": None\n",
    "      },\n",
    "      \"num_batches\": 1\n",
    "    }\n",
    "  },\n",
    "  \"kwargs\": {\n",
    "    \"column\": \"BMI\",\n",
    "    \"max_value\": 99,\n",
    "    \"min_value\": 0,\n",
    "    \"strict_max\": False,\n",
    "    \"strict_min\": False\n",
    "  },\n",
    "  \"expectation_type\": \"expect_column_min_to_be_between\"\n",
    "})\n",
    "suite.add_expectation(expectation_configuration=expectation_configuration)"
   ]
  },
  {
   "cell_type": "code",
   "execution_count": 16,
   "id": "cb3ac47f",
   "metadata": {},
   "outputs": [
    {
     "data": {
      "text/plain": [
       "{\"expectation_type\": \"expect_column_median_to_be_between\", \"meta\": {\"profiler_details\": {\"metric_configuration\": {\"domain_kwargs\": {\"column\": \"BMI\"}, \"metric_name\": \"column.median\", \"metric_value_kwargs\": null}, \"num_batches\": 1}}, \"kwargs\": {\"column\": \"BMI\", \"max_value\": 99, \"min_value\": 0, \"strict_max\": false, \"strict_min\": false}}"
      ]
     },
     "execution_count": 16,
     "metadata": {},
     "output_type": "execute_result"
    }
   ],
   "source": [
    "\n",
    "expectation_configuration = ExpectationConfiguration(**{\n",
    "  \"meta\": {\n",
    "    \"profiler_details\": {\n",
    "      \"metric_configuration\": {\n",
    "        \"domain_kwargs\": {\n",
    "          \"column\": \"BMI\"\n",
    "        },\n",
    "        \"metric_name\": \"column.median\",\n",
    "        \"metric_value_kwargs\": None\n",
    "      },\n",
    "      \"num_batches\": 1\n",
    "    }\n",
    "  },\n",
    "  \"kwargs\": {\n",
    "    \"column\": \"BMI\",\n",
    "    \"max_value\": 99,\n",
    "    \"min_value\": 0,\n",
    "    \"strict_max\": False,\n",
    "    \"strict_min\": False\n",
    "  },\n",
    "  \"expectation_type\": \"expect_column_median_to_be_between\"\n",
    "})\n",
    "suite.add_expectation(expectation_configuration=expectation_configuration)"
   ]
  },
  {
   "cell_type": "markdown",
   "id": "50a70504",
   "metadata": {},
   "source": [
    "#### `HeavyAlcoholConsump`"
   ]
  },
  {
   "cell_type": "code",
   "execution_count": 17,
   "id": "273c6cfe",
   "metadata": {},
   "outputs": [
    {
     "data": {
      "text/plain": [
       "{\"expectation_type\": \"expect_column_values_to_not_be_null\", \"meta\": {\"profiler_details\": {\"metric_configuration\": {\"domain_kwargs\": {\"column\": \"HeavyAlcoholConsump\"}, \"metric_name\": \"column_values.nonnull.unexpected_count\", \"metric_value_kwargs\": null}, \"num_batches\": 1}}, \"kwargs\": {\"column\": \"HeavyAlcoholConsump\"}}"
      ]
     },
     "execution_count": 17,
     "metadata": {},
     "output_type": "execute_result"
    }
   ],
   "source": [
    "\n",
    "expectation_configuration = ExpectationConfiguration(**{\n",
    "  \"meta\": {\n",
    "    \"profiler_details\": {\n",
    "      \"metric_configuration\": {\n",
    "        \"domain_kwargs\": {\n",
    "          \"column\": \"HeavyAlcoholConsump\"\n",
    "        },\n",
    "        \"metric_name\": \"column_values.nonnull.unexpected_count\",\n",
    "        \"metric_value_kwargs\": None\n",
    "      },\n",
    "      \"num_batches\": 1\n",
    "    }\n",
    "  },\n",
    "  \"kwargs\": {\n",
    "    \"column\": \"HeavyAlcoholConsump\"\n",
    "  },\n",
    "  \"expectation_type\": \"expect_column_values_to_not_be_null\"\n",
    "})\n",
    "suite.add_expectation(expectation_configuration=expectation_configuration)"
   ]
  },
  {
   "cell_type": "code",
   "execution_count": 18,
   "id": "5af7de49",
   "metadata": {},
   "outputs": [
    {
     "data": {
      "text/plain": [
       "{\"expectation_type\": \"expect_column_distinct_values_to_be_in_set\", \"meta\": {\"UserConfigurableProfiler\": {\"confidence\": \"very low\"}}, \"kwargs\": {\"column\": \"HeavyAlcoholConsump\", \"value_set\": [0, 1]}}"
      ]
     },
     "execution_count": 18,
     "metadata": {},
     "output_type": "execute_result"
    }
   ],
   "source": [
    "\n",
    "expectation_configuration = ExpectationConfiguration(**{\n",
    "  \"meta\": {\n",
    "    \"UserConfigurableProfiler\": {\n",
    "      \"confidence\": \"very low\"\n",
    "    }\n",
    "  },\n",
    "  \"kwargs\": {\n",
    "    \"column\": \"HeavyAlcoholConsump\",\n",
    "    \"value_set\": [\n",
    "      0,\n",
    "      1\n",
    "    ]\n",
    "  },\n",
    "  \"expectation_type\": \"expect_column_distinct_values_to_be_in_set\"\n",
    "})\n",
    "suite.add_expectation(expectation_configuration=expectation_configuration)"
   ]
  },
  {
   "cell_type": "code",
   "execution_count": 19,
   "id": "21d0b49f",
   "metadata": {},
   "outputs": [
    {
     "data": {
      "text/plain": [
       "{\"expectation_type\": \"expect_column_most_common_value_to_be_in_set\", \"meta\": {\"UserConfigurableProfiler\": {\"confidence\": \"very low\"}}, \"kwargs\": {\"column\": \"HeavyAlcoholConsump\", \"value_set\": [0, 1]}}"
      ]
     },
     "execution_count": 19,
     "metadata": {},
     "output_type": "execute_result"
    }
   ],
   "source": [
    "\n",
    "expectation_configuration = ExpectationConfiguration(**{\n",
    "  \"meta\": {\n",
    "    \"UserConfigurableProfiler\": {\n",
    "      \"confidence\": \"very low\"\n",
    "    }\n",
    "  },\n",
    "  \"kwargs\": {\n",
    "    \"column\": \"HeavyAlcoholConsump\",\n",
    "    \"value_set\": [\n",
    "      0,\n",
    "      1\n",
    "    ]\n",
    "  },\n",
    "  \"expectation_type\": \"expect_column_most_common_value_to_be_in_set\"\n",
    "})\n",
    "suite.add_expectation(expectation_configuration=expectation_configuration)"
   ]
  },
  {
   "cell_type": "markdown",
   "id": "55c49b8e",
   "metadata": {},
   "source": [
    "#### `Fruits`"
   ]
  },
  {
   "cell_type": "code",
   "execution_count": 20,
   "id": "316064ff",
   "metadata": {},
   "outputs": [
    {
     "data": {
      "text/plain": [
       "{\"expectation_type\": \"expect_column_values_to_not_be_null\", \"meta\": {\"profiler_details\": {\"metric_configuration\": {\"domain_kwargs\": {\"column\": \"Fruits\"}, \"metric_name\": \"column_values.nonnull.unexpected_count\", \"metric_value_kwargs\": null}, \"num_batches\": 1}}, \"kwargs\": {\"column\": \"Fruits\"}}"
      ]
     },
     "execution_count": 20,
     "metadata": {},
     "output_type": "execute_result"
    }
   ],
   "source": [
    "\n",
    "expectation_configuration = ExpectationConfiguration(**{\n",
    "  \"meta\": {\n",
    "    \"profiler_details\": {\n",
    "      \"metric_configuration\": {\n",
    "        \"domain_kwargs\": {\n",
    "          \"column\": \"Fruits\"\n",
    "        },\n",
    "        \"metric_name\": \"column_values.nonnull.unexpected_count\",\n",
    "        \"metric_value_kwargs\": None\n",
    "      },\n",
    "      \"num_batches\": 1\n",
    "    }\n",
    "  },\n",
    "  \"kwargs\": {\n",
    "    \"column\": \"Fruits\"\n",
    "  },\n",
    "  \"expectation_type\": \"expect_column_values_to_not_be_null\"\n",
    "})\n",
    "suite.add_expectation(expectation_configuration=expectation_configuration)"
   ]
  },
  {
   "cell_type": "code",
   "execution_count": 21,
   "id": "81709707",
   "metadata": {},
   "outputs": [
    {
     "data": {
      "text/plain": [
       "{\"expectation_type\": \"expect_column_distinct_values_to_be_in_set\", \"meta\": {\"UserConfigurableProfiler\": {\"confidence\": \"very low\"}}, \"kwargs\": {\"column\": \"Fruits\", \"value_set\": [0, 1]}}"
      ]
     },
     "execution_count": 21,
     "metadata": {},
     "output_type": "execute_result"
    }
   ],
   "source": [
    "\n",
    "expectation_configuration = ExpectationConfiguration(**{\n",
    "  \"meta\": {\n",
    "    \"UserConfigurableProfiler\": {\n",
    "      \"confidence\": \"very low\"\n",
    "    }\n",
    "  },\n",
    "  \"kwargs\": {\n",
    "    \"column\": \"Fruits\",\n",
    "    \"value_set\": [\n",
    "      0,\n",
    "      1\n",
    "    ]\n",
    "  },\n",
    "  \"expectation_type\": \"expect_column_distinct_values_to_be_in_set\"\n",
    "})\n",
    "suite.add_expectation(expectation_configuration=expectation_configuration)"
   ]
  },
  {
   "cell_type": "markdown",
   "id": "e2ffde8b",
   "metadata": {},
   "source": [
    "#### `PhysicalHlth`"
   ]
  },
  {
   "cell_type": "code",
   "execution_count": 22,
   "id": "bef9c50d",
   "metadata": {},
   "outputs": [
    {
     "data": {
      "text/plain": [
       "{\"expectation_type\": \"expect_column_values_to_not_be_null\", \"meta\": {\"profiler_details\": {\"metric_configuration\": {\"domain_kwargs\": {\"column\": \"PhysicalHlth\"}, \"metric_name\": \"column_values.nonnull.unexpected_count\", \"metric_value_kwargs\": null}, \"num_batches\": 1}}, \"kwargs\": {\"column\": \"PhysicalHlth\"}}"
      ]
     },
     "execution_count": 22,
     "metadata": {},
     "output_type": "execute_result"
    }
   ],
   "source": [
    "\n",
    "expectation_configuration = ExpectationConfiguration(**{\n",
    "  \"meta\": {\n",
    "    \"profiler_details\": {\n",
    "      \"metric_configuration\": {\n",
    "        \"domain_kwargs\": {\n",
    "          \"column\": \"PhysicalHlth\"\n",
    "        },\n",
    "        \"metric_name\": \"column_values.nonnull.unexpected_count\",\n",
    "        \"metric_value_kwargs\": None\n",
    "      },\n",
    "      \"num_batches\": 1\n",
    "    }\n",
    "  },\n",
    "  \"kwargs\": {\n",
    "    \"column\": \"PhysicalHlth\"\n",
    "  },\n",
    "  \"expectation_type\": \"expect_column_values_to_not_be_null\"\n",
    "})\n",
    "suite.add_expectation(expectation_configuration=expectation_configuration)"
   ]
  },
  {
   "cell_type": "code",
   "execution_count": 23,
   "id": "a04df84f",
   "metadata": {},
   "outputs": [
    {
     "data": {
      "text/plain": [
       "{\"expectation_type\": \"expect_column_min_to_be_between\", \"meta\": {\"profiler_details\": {\"metric_configuration\": {\"domain_kwargs\": {\"column\": \"PhysicalHlth\"}, \"metric_name\": \"column.min\", \"metric_value_kwargs\": null}, \"num_batches\": 1}}, \"kwargs\": {\"column\": \"PhysicalHlth\", \"max_value\": 30, \"min_value\": 0, \"strict_max\": false, \"strict_min\": false}}"
      ]
     },
     "execution_count": 23,
     "metadata": {},
     "output_type": "execute_result"
    }
   ],
   "source": [
    "\n",
    "expectation_configuration = ExpectationConfiguration(**{\n",
    "  \"meta\": {\n",
    "    \"profiler_details\": {\n",
    "      \"metric_configuration\": {\n",
    "        \"domain_kwargs\": {\n",
    "          \"column\": \"PhysicalHlth\"\n",
    "        },\n",
    "        \"metric_name\": \"column.min\",\n",
    "        \"metric_value_kwargs\": None\n",
    "      },\n",
    "      \"num_batches\": 1\n",
    "    }\n",
    "  },\n",
    "  \"kwargs\": {\n",
    "    \"column\": \"PhysicalHlth\",\n",
    "    \"max_value\": 30,\n",
    "    \"min_value\": 0,\n",
    "    \"strict_max\": False,\n",
    "    \"strict_min\": False\n",
    "  },\n",
    "  \"expectation_type\": \"expect_column_min_to_be_between\"\n",
    "})\n",
    "suite.add_expectation(expectation_configuration=expectation_configuration)"
   ]
  },
  {
   "cell_type": "code",
   "execution_count": 24,
   "id": "68af5aa0",
   "metadata": {},
   "outputs": [
    {
     "data": {
      "text/plain": [
       "{\"expectation_type\": \"expect_column_median_to_be_between\", \"meta\": {\"profiler_details\": {\"metric_configuration\": {\"domain_kwargs\": {\"column\": \"PhysicalHlth\"}, \"metric_name\": \"column.median\", \"metric_value_kwargs\": null}, \"num_batches\": 1}}, \"kwargs\": {\"column\": \"PhysicalHlth\", \"max_value\": 30, \"min_value\": 0, \"strict_max\": false, \"strict_min\": false}}"
      ]
     },
     "execution_count": 24,
     "metadata": {},
     "output_type": "execute_result"
    }
   ],
   "source": [
    "\n",
    "expectation_configuration = ExpectationConfiguration(**{\n",
    "  \"meta\": {\n",
    "    \"profiler_details\": {\n",
    "      \"metric_configuration\": {\n",
    "        \"domain_kwargs\": {\n",
    "          \"column\": \"PhysicalHlth\"\n",
    "        },\n",
    "        \"metric_name\": \"column.median\",\n",
    "        \"metric_value_kwargs\": None\n",
    "      },\n",
    "      \"num_batches\": 1\n",
    "    }\n",
    "  },\n",
    "  \"kwargs\": {\n",
    "    \"column\": \"PhysicalHlth\",\n",
    "    \"max_value\": 30,\n",
    "    \"min_value\": 0,\n",
    "    \"strict_max\": False,\n",
    "    \"strict_min\": False\n",
    "  },\n",
    "  \"expectation_type\": \"expect_column_median_to_be_between\"\n",
    "})\n",
    "suite.add_expectation(expectation_configuration=expectation_configuration)"
   ]
  },
  {
   "cell_type": "markdown",
   "id": "b6ae5dc8",
   "metadata": {},
   "source": [
    "#### `GeneralHealth`"
   ]
  },
  {
   "cell_type": "code",
   "execution_count": 25,
   "id": "253218fd",
   "metadata": {},
   "outputs": [
    {
     "data": {
      "text/plain": [
       "{\"expectation_type\": \"expect_column_values_to_not_be_null\", \"meta\": {\"profiler_details\": {\"metric_configuration\": {\"domain_kwargs\": {\"column\": \"GeneralHealth\"}, \"metric_name\": \"column_values.nonnull.unexpected_count\", \"metric_value_kwargs\": null}, \"num_batches\": 1}}, \"kwargs\": {\"column\": \"GeneralHealth\"}}"
      ]
     },
     "execution_count": 25,
     "metadata": {},
     "output_type": "execute_result"
    }
   ],
   "source": [
    "\n",
    "expectation_configuration = ExpectationConfiguration(**{\n",
    "  \"meta\": {\n",
    "    \"profiler_details\": {\n",
    "      \"metric_configuration\": {\n",
    "        \"domain_kwargs\": {\n",
    "          \"column\": \"GeneralHealth\"\n",
    "        },\n",
    "        \"metric_name\": \"column_values.nonnull.unexpected_count\",\n",
    "        \"metric_value_kwargs\": None\n",
    "      },\n",
    "      \"num_batches\": 1\n",
    "    }\n",
    "  },\n",
    "  \"kwargs\": {\n",
    "    \"column\": \"GeneralHealth\"\n",
    "  },\n",
    "  \"expectation_type\": \"expect_column_values_to_not_be_null\"\n",
    "})\n",
    "suite.add_expectation(expectation_configuration=expectation_configuration)"
   ]
  },
  {
   "cell_type": "code",
   "execution_count": 26,
   "id": "1ec3707f",
   "metadata": {},
   "outputs": [
    {
     "data": {
      "text/plain": [
       "{\"expectation_type\": \"expect_column_distinct_values_to_be_in_set\", \"meta\": {\"UserConfigurableProfiler\": {\"confidence\": \"very low\"}}, \"kwargs\": {\"column\": \"GeneralHealth\", \"value_set\": [1, 2, 3, 4, 5]}}"
      ]
     },
     "execution_count": 26,
     "metadata": {},
     "output_type": "execute_result"
    }
   ],
   "source": [
    "\n",
    "expectation_configuration = ExpectationConfiguration(**{\n",
    "  \"meta\": {\n",
    "    \"UserConfigurableProfiler\": {\n",
    "      \"confidence\": \"very low\"\n",
    "    }\n",
    "  },\n",
    "  \"kwargs\": {\n",
    "    \"column\": \"GeneralHealth\",\n",
    "    \"value_set\": [\n",
    "      1,\n",
    "      2,\n",
    "      3,\n",
    "      4,\n",
    "      5\n",
    "    ]\n",
    "  },\n",
    "  \"expectation_type\": \"expect_column_distinct_values_to_be_in_set\"\n",
    "})\n",
    "suite.add_expectation(expectation_configuration=expectation_configuration)"
   ]
  },
  {
   "cell_type": "code",
   "execution_count": 27,
   "id": "787f38b8",
   "metadata": {},
   "outputs": [
    {
     "data": {
      "text/plain": [
       "{\"expectation_type\": \"expect_column_most_common_value_to_be_in_set\", \"meta\": {\"UserConfigurableProfiler\": {\"confidence\": \"very low\"}}, \"kwargs\": {\"column\": \"GeneralHealth\", \"value_set\": [1, 2, 3, 4, 5]}}"
      ]
     },
     "execution_count": 27,
     "metadata": {},
     "output_type": "execute_result"
    }
   ],
   "source": [
    "\n",
    "expectation_configuration = ExpectationConfiguration(**{\n",
    "  \"meta\": {\n",
    "    \"UserConfigurableProfiler\": {\n",
    "      \"confidence\": \"very low\"\n",
    "    }\n",
    "  },\n",
    "  \"kwargs\": {\n",
    "    \"column\": \"GeneralHealth\",\n",
    "    \"value_set\": [\n",
    "      1,\n",
    "      2,\n",
    "      3,\n",
    "      4,\n",
    "      5\n",
    "    ]\n",
    "  },\n",
    "  \"expectation_type\": \"expect_column_most_common_value_to_be_in_set\"\n",
    "})\n",
    "suite.add_expectation(expectation_configuration=expectation_configuration)"
   ]
  },
  {
   "cell_type": "markdown",
   "id": "c2ad37ba",
   "metadata": {},
   "source": [
    "#### `Education`"
   ]
  },
  {
   "cell_type": "code",
   "execution_count": 28,
   "id": "f27c29ca",
   "metadata": {},
   "outputs": [
    {
     "data": {
      "text/plain": [
       "{\"expectation_type\": \"expect_column_values_to_not_be_null\", \"meta\": {\"profiler_details\": {\"metric_configuration\": {\"domain_kwargs\": {\"column\": \"Education\"}, \"metric_name\": \"column_values.nonnull.unexpected_count\", \"metric_value_kwargs\": null}, \"num_batches\": 1}}, \"kwargs\": {\"column\": \"Education\"}}"
      ]
     },
     "execution_count": 28,
     "metadata": {},
     "output_type": "execute_result"
    }
   ],
   "source": [
    "\n",
    "expectation_configuration = ExpectationConfiguration(**{\n",
    "  \"meta\": {\n",
    "    \"profiler_details\": {\n",
    "      \"metric_configuration\": {\n",
    "        \"domain_kwargs\": {\n",
    "          \"column\": \"Education\"\n",
    "        },\n",
    "        \"metric_name\": \"column_values.nonnull.unexpected_count\",\n",
    "        \"metric_value_kwargs\": None\n",
    "      },\n",
    "      \"num_batches\": 1\n",
    "    }\n",
    "  },\n",
    "  \"kwargs\": {\n",
    "    \"column\": \"Education\"\n",
    "  },\n",
    "  \"expectation_type\": \"expect_column_values_to_not_be_null\"\n",
    "})\n",
    "suite.add_expectation(expectation_configuration=expectation_configuration)"
   ]
  },
  {
   "cell_type": "code",
   "execution_count": 29,
   "id": "d7ee2bd0",
   "metadata": {},
   "outputs": [
    {
     "data": {
      "text/plain": [
       "{\"expectation_type\": \"expect_column_distinct_values_to_be_in_set\", \"meta\": {\"UserConfigurableProfiler\": {\"confidence\": \"very low\"}}, \"kwargs\": {\"column\": \"Education\", \"value_set\": [1, 2, 3, 4, 5, 6]}}"
      ]
     },
     "execution_count": 29,
     "metadata": {},
     "output_type": "execute_result"
    }
   ],
   "source": [
    "\n",
    "expectation_configuration = ExpectationConfiguration(**{\n",
    "  \"meta\": {\n",
    "    \"UserConfigurableProfiler\": {\n",
    "      \"confidence\": \"very low\"\n",
    "    }\n",
    "  },\n",
    "  \"kwargs\": {\n",
    "    \"column\": \"Education\",\n",
    "    \"value_set\": [\n",
    "      1,\n",
    "      2,\n",
    "      3,\n",
    "      4,\n",
    "      5,\n",
    "      6\n",
    "    ]\n",
    "  },\n",
    "  \"expectation_type\": \"expect_column_distinct_values_to_be_in_set\"\n",
    "})\n",
    "suite.add_expectation(expectation_configuration=expectation_configuration)"
   ]
  },
  {
   "cell_type": "markdown",
   "id": "67e04cd6",
   "metadata": {},
   "source": [
    "#### `Sex`"
   ]
  },
  {
   "cell_type": "code",
   "execution_count": 30,
   "id": "18c54bbb",
   "metadata": {},
   "outputs": [
    {
     "data": {
      "text/plain": [
       "{\"expectation_type\": \"expect_column_values_to_not_be_null\", \"meta\": {\"profiler_details\": {\"metric_configuration\": {\"domain_kwargs\": {\"column\": \"Sex\"}, \"metric_name\": \"column_values.nonnull.unexpected_count\", \"metric_value_kwargs\": null}, \"num_batches\": 1}}, \"kwargs\": {\"column\": \"Sex\"}}"
      ]
     },
     "execution_count": 30,
     "metadata": {},
     "output_type": "execute_result"
    }
   ],
   "source": [
    "\n",
    "expectation_configuration = ExpectationConfiguration(**{\n",
    "  \"meta\": {\n",
    "    \"profiler_details\": {\n",
    "      \"metric_configuration\": {\n",
    "        \"domain_kwargs\": {\n",
    "          \"column\": \"Sex\"\n",
    "        },\n",
    "        \"metric_name\": \"column_values.nonnull.unexpected_count\",\n",
    "        \"metric_value_kwargs\": None\n",
    "      },\n",
    "      \"num_batches\": 1\n",
    "    }\n",
    "  },\n",
    "  \"kwargs\": {\n",
    "    \"column\": \"Sex\"\n",
    "  },\n",
    "  \"expectation_type\": \"expect_column_values_to_not_be_null\"\n",
    "})\n",
    "suite.add_expectation(expectation_configuration=expectation_configuration)"
   ]
  },
  {
   "cell_type": "code",
   "execution_count": 31,
   "id": "ccac2ba3",
   "metadata": {},
   "outputs": [
    {
     "data": {
      "text/plain": [
       "{\"expectation_type\": \"expect_column_distinct_values_to_be_in_set\", \"meta\": {\"UserConfigurableProfiler\": {\"confidence\": \"very low\"}}, \"kwargs\": {\"column\": \"Sex\", \"value_set\": [0, 1]}}"
      ]
     },
     "execution_count": 31,
     "metadata": {},
     "output_type": "execute_result"
    }
   ],
   "source": [
    "\n",
    "expectation_configuration = ExpectationConfiguration(**{\n",
    "  \"meta\": {\n",
    "    \"UserConfigurableProfiler\": {\n",
    "      \"confidence\": \"very low\"\n",
    "    }\n",
    "  },\n",
    "  \"kwargs\": {\n",
    "    \"column\": \"Sex\",\n",
    "    \"value_set\": [\n",
    "      0,\n",
    "      1\n",
    "    ]\n",
    "  },\n",
    "  \"expectation_type\": \"expect_column_distinct_values_to_be_in_set\"\n",
    "})\n",
    "suite.add_expectation(expectation_configuration=expectation_configuration)"
   ]
  },
  {
   "cell_type": "markdown",
   "id": "cc95005f",
   "metadata": {},
   "source": [
    "#### `PhysicalActivity`"
   ]
  },
  {
   "cell_type": "code",
   "execution_count": 32,
   "id": "f4c1f13f",
   "metadata": {},
   "outputs": [
    {
     "data": {
      "text/plain": [
       "{\"expectation_type\": \"expect_column_values_to_not_be_null\", \"meta\": {\"profiler_details\": {\"metric_configuration\": {\"domain_kwargs\": {\"column\": \"PhysicalActivity\"}, \"metric_name\": \"column_values.nonnull.unexpected_count\", \"metric_value_kwargs\": null}, \"num_batches\": 1}}, \"kwargs\": {\"column\": \"PhysicalActivity\"}}"
      ]
     },
     "execution_count": 32,
     "metadata": {},
     "output_type": "execute_result"
    }
   ],
   "source": [
    "\n",
    "expectation_configuration = ExpectationConfiguration(**{\n",
    "  \"meta\": {\n",
    "    \"profiler_details\": {\n",
    "      \"metric_configuration\": {\n",
    "        \"domain_kwargs\": {\n",
    "          \"column\": \"PhysicalActivity\"\n",
    "        },\n",
    "        \"metric_name\": \"column_values.nonnull.unexpected_count\",\n",
    "        \"metric_value_kwargs\": None\n",
    "      },\n",
    "      \"num_batches\": 1\n",
    "    }\n",
    "  },\n",
    "  \"kwargs\": {\n",
    "    \"column\": \"PhysicalActivity\"\n",
    "  },\n",
    "  \"expectation_type\": \"expect_column_values_to_not_be_null\"\n",
    "})\n",
    "suite.add_expectation(expectation_configuration=expectation_configuration)"
   ]
  },
  {
   "cell_type": "code",
   "execution_count": 33,
   "id": "54a974bd",
   "metadata": {},
   "outputs": [
    {
     "data": {
      "text/plain": [
       "{\"expectation_type\": \"expect_column_distinct_values_to_be_in_set\", \"meta\": {\"UserConfigurableProfiler\": {\"confidence\": \"very low\"}}, \"kwargs\": {\"column\": \"PhysicalActivity\", \"value_set\": [0, 1]}}"
      ]
     },
     "execution_count": 33,
     "metadata": {},
     "output_type": "execute_result"
    }
   ],
   "source": [
    "\n",
    "expectation_configuration = ExpectationConfiguration(**{\n",
    "  \"meta\": {\n",
    "    \"UserConfigurableProfiler\": {\n",
    "      \"confidence\": \"very low\"\n",
    "    }\n",
    "  },\n",
    "  \"kwargs\": {\n",
    "    \"column\": \"PhysicalActivity\",\n",
    "    \"value_set\": [\n",
    "      0,\n",
    "      1\n",
    "    ]\n",
    "  },\n",
    "  \"expectation_type\": \"expect_column_distinct_values_to_be_in_set\"\n",
    "})\n",
    "suite.add_expectation(expectation_configuration=expectation_configuration)"
   ]
  },
  {
   "cell_type": "markdown",
   "id": "0ac631f7",
   "metadata": {},
   "source": [
    "#### `Smoker`"
   ]
  },
  {
   "cell_type": "code",
   "execution_count": 34,
   "id": "14ea9627",
   "metadata": {},
   "outputs": [
    {
     "data": {
      "text/plain": [
       "{\"expectation_type\": \"expect_column_values_to_not_be_null\", \"meta\": {\"profiler_details\": {\"metric_configuration\": {\"domain_kwargs\": {\"column\": \"Smoker\"}, \"metric_name\": \"column_values.nonnull.unexpected_count\", \"metric_value_kwargs\": null}, \"num_batches\": 1}}, \"kwargs\": {\"column\": \"Smoker\"}}"
      ]
     },
     "execution_count": 34,
     "metadata": {},
     "output_type": "execute_result"
    }
   ],
   "source": [
    "\n",
    "expectation_configuration = ExpectationConfiguration(**{\n",
    "  \"meta\": {\n",
    "    \"profiler_details\": {\n",
    "      \"metric_configuration\": {\n",
    "        \"domain_kwargs\": {\n",
    "          \"column\": \"Smoker\"\n",
    "        },\n",
    "        \"metric_name\": \"column_values.nonnull.unexpected_count\",\n",
    "        \"metric_value_kwargs\": None\n",
    "      },\n",
    "      \"num_batches\": 1\n",
    "    }\n",
    "  },\n",
    "  \"kwargs\": {\n",
    "    \"column\": \"Smoker\"\n",
    "  },\n",
    "  \"expectation_type\": \"expect_column_values_to_not_be_null\"\n",
    "})\n",
    "suite.add_expectation(expectation_configuration=expectation_configuration)"
   ]
  },
  {
   "cell_type": "code",
   "execution_count": 35,
   "id": "6e18f771",
   "metadata": {},
   "outputs": [
    {
     "data": {
      "text/plain": [
       "{\"expectation_type\": \"expect_column_distinct_values_to_be_in_set\", \"meta\": {\"UserConfigurableProfiler\": {\"confidence\": \"very low\"}}, \"kwargs\": {\"column\": \"Smoker\", \"value_set\": [0, 1]}}"
      ]
     },
     "execution_count": 35,
     "metadata": {},
     "output_type": "execute_result"
    }
   ],
   "source": [
    "\n",
    "expectation_configuration = ExpectationConfiguration(**{\n",
    "  \"meta\": {\n",
    "    \"UserConfigurableProfiler\": {\n",
    "      \"confidence\": \"very low\"\n",
    "    }\n",
    "  },\n",
    "  \"kwargs\": {\n",
    "    \"column\": \"Smoker\",\n",
    "    \"value_set\": [\n",
    "      0,\n",
    "      1\n",
    "    ]\n",
    "  },\n",
    "  \"expectation_type\": \"expect_column_distinct_values_to_be_in_set\"\n",
    "})\n",
    "suite.add_expectation(expectation_configuration=expectation_configuration)"
   ]
  },
  {
   "cell_type": "markdown",
   "id": "9914c815",
   "metadata": {},
   "source": [
    "#### `AnyHealthcare`"
   ]
  },
  {
   "cell_type": "code",
   "execution_count": 36,
   "id": "223aa0c1",
   "metadata": {},
   "outputs": [
    {
     "data": {
      "text/plain": [
       "{\"expectation_type\": \"expect_column_values_to_not_be_null\", \"meta\": {\"profiler_details\": {\"metric_configuration\": {\"domain_kwargs\": {\"column\": \"AnyHealthcare\"}, \"metric_name\": \"column_values.nonnull.unexpected_count\", \"metric_value_kwargs\": null}, \"num_batches\": 1}}, \"kwargs\": {\"column\": \"AnyHealthcare\"}}"
      ]
     },
     "execution_count": 36,
     "metadata": {},
     "output_type": "execute_result"
    }
   ],
   "source": [
    "\n",
    "expectation_configuration = ExpectationConfiguration(**{\n",
    "  \"meta\": {\n",
    "    \"profiler_details\": {\n",
    "      \"metric_configuration\": {\n",
    "        \"domain_kwargs\": {\n",
    "          \"column\": \"AnyHealthcare\"\n",
    "        },\n",
    "        \"metric_name\": \"column_values.nonnull.unexpected_count\",\n",
    "        \"metric_value_kwargs\": None\n",
    "      },\n",
    "      \"num_batches\": 1\n",
    "    }\n",
    "  },\n",
    "  \"kwargs\": {\n",
    "    \"column\": \"AnyHealthcare\"\n",
    "  },\n",
    "  \"expectation_type\": \"expect_column_values_to_not_be_null\"\n",
    "})\n",
    "suite.add_expectation(expectation_configuration=expectation_configuration)"
   ]
  },
  {
   "cell_type": "code",
   "execution_count": 37,
   "id": "8bca3b51",
   "metadata": {},
   "outputs": [
    {
     "data": {
      "text/plain": [
       "{\"expectation_type\": \"expect_column_distinct_values_to_be_in_set\", \"meta\": {\"UserConfigurableProfiler\": {\"confidence\": \"very low\"}}, \"kwargs\": {\"column\": \"AnyHealthcare\", \"value_set\": [0, 1]}}"
      ]
     },
     "execution_count": 37,
     "metadata": {},
     "output_type": "execute_result"
    }
   ],
   "source": [
    "\n",
    "expectation_configuration = ExpectationConfiguration(**{\n",
    "  \"meta\": {\n",
    "    \"UserConfigurableProfiler\": {\n",
    "      \"confidence\": \"very low\"\n",
    "    }\n",
    "  },\n",
    "  \"kwargs\": {\n",
    "    \"column\": \"AnyHealthcare\",\n",
    "    \"value_set\": [\n",
    "      0,\n",
    "      1\n",
    "    ]\n",
    "  },\n",
    "  \"expectation_type\": \"expect_column_distinct_values_to_be_in_set\"\n",
    "})\n",
    "suite.add_expectation(expectation_configuration=expectation_configuration)"
   ]
  },
  {
   "cell_type": "markdown",
   "id": "93d6f39b",
   "metadata": {},
   "source": [
    "#### `HighBP`"
   ]
  },
  {
   "cell_type": "code",
   "execution_count": 38,
   "id": "cbf788d4",
   "metadata": {},
   "outputs": [
    {
     "data": {
      "text/plain": [
       "{\"expectation_type\": \"expect_column_values_to_not_be_null\", \"meta\": {\"profiler_details\": {\"metric_configuration\": {\"domain_kwargs\": {\"column\": \"HighBP\"}, \"metric_name\": \"column_values.nonnull.unexpected_count\", \"metric_value_kwargs\": null}, \"num_batches\": 1}}, \"kwargs\": {\"column\": \"HighBP\"}}"
      ]
     },
     "execution_count": 38,
     "metadata": {},
     "output_type": "execute_result"
    }
   ],
   "source": [
    "\n",
    "expectation_configuration = ExpectationConfiguration(**{\n",
    "  \"meta\": {\n",
    "    \"profiler_details\": {\n",
    "      \"metric_configuration\": {\n",
    "        \"domain_kwargs\": {\n",
    "          \"column\": \"HighBP\"\n",
    "        },\n",
    "        \"metric_name\": \"column_values.nonnull.unexpected_count\",\n",
    "        \"metric_value_kwargs\": None\n",
    "      },\n",
    "      \"num_batches\": 1\n",
    "    }\n",
    "  },\n",
    "  \"kwargs\": {\n",
    "    \"column\": \"HighBP\"\n",
    "  },\n",
    "  \"expectation_type\": \"expect_column_values_to_not_be_null\"\n",
    "})\n",
    "suite.add_expectation(expectation_configuration=expectation_configuration)"
   ]
  },
  {
   "cell_type": "code",
   "execution_count": 39,
   "id": "638aae7d",
   "metadata": {},
   "outputs": [
    {
     "data": {
      "text/plain": [
       "{\"expectation_type\": \"expect_column_distinct_values_to_be_in_set\", \"meta\": {\"UserConfigurableProfiler\": {\"confidence\": \"very low\"}}, \"kwargs\": {\"column\": \"HighBP\", \"value_set\": [0, 1]}}"
      ]
     },
     "execution_count": 39,
     "metadata": {},
     "output_type": "execute_result"
    }
   ],
   "source": [
    "\n",
    "expectation_configuration = ExpectationConfiguration(**{\n",
    "  \"meta\": {\n",
    "    \"UserConfigurableProfiler\": {\n",
    "      \"confidence\": \"very low\"\n",
    "    }\n",
    "  },\n",
    "  \"kwargs\": {\n",
    "    \"column\": \"HighBP\",\n",
    "    \"value_set\": [\n",
    "      0,\n",
    "      1\n",
    "    ]\n",
    "  },\n",
    "  \"expectation_type\": \"expect_column_distinct_values_to_be_in_set\"\n",
    "})\n",
    "suite.add_expectation(expectation_configuration=expectation_configuration)"
   ]
  },
  {
   "cell_type": "markdown",
   "id": "d17fa51d",
   "metadata": {},
   "source": [
    "#### `HighCholesterol`"
   ]
  },
  {
   "cell_type": "code",
   "execution_count": 40,
   "id": "a37b5c60",
   "metadata": {},
   "outputs": [
    {
     "data": {
      "text/plain": [
       "{\"expectation_type\": \"expect_column_values_to_not_be_null\", \"meta\": {\"profiler_details\": {\"metric_configuration\": {\"domain_kwargs\": {\"column\": \"HighCholesterol\"}, \"metric_name\": \"column_values.nonnull.unexpected_count\", \"metric_value_kwargs\": null}, \"num_batches\": 1}}, \"kwargs\": {\"column\": \"HighCholesterol\"}}"
      ]
     },
     "execution_count": 40,
     "metadata": {},
     "output_type": "execute_result"
    }
   ],
   "source": [
    "\n",
    "expectation_configuration = ExpectationConfiguration(**{\n",
    "  \"meta\": {\n",
    "    \"profiler_details\": {\n",
    "      \"metric_configuration\": {\n",
    "        \"domain_kwargs\": {\n",
    "          \"column\": \"HighCholesterol\"\n",
    "        },\n",
    "        \"metric_name\": \"column_values.nonnull.unexpected_count\",\n",
    "        \"metric_value_kwargs\": None\n",
    "      },\n",
    "      \"num_batches\": 1\n",
    "    }\n",
    "  },\n",
    "  \"kwargs\": {\n",
    "    \"column\": \"HighCholesterol\"\n",
    "  },\n",
    "  \"expectation_type\": \"expect_column_values_to_not_be_null\"\n",
    "})\n",
    "suite.add_expectation(expectation_configuration=expectation_configuration)"
   ]
  },
  {
   "cell_type": "code",
   "execution_count": 41,
   "id": "361bd456",
   "metadata": {},
   "outputs": [
    {
     "data": {
      "text/plain": [
       "{\"expectation_type\": \"expect_column_distinct_values_to_be_in_set\", \"meta\": {\"UserConfigurableProfiler\": {\"confidence\": \"very low\"}}, \"kwargs\": {\"column\": \"HighCholesterol\", \"value_set\": [0, 1]}}"
      ]
     },
     "execution_count": 41,
     "metadata": {},
     "output_type": "execute_result"
    }
   ],
   "source": [
    "\n",
    "expectation_configuration = ExpectationConfiguration(**{\n",
    "  \"meta\": {\n",
    "    \"UserConfigurableProfiler\": {\n",
    "      \"confidence\": \"very low\"\n",
    "    }\n",
    "  },\n",
    "  \"kwargs\": {\n",
    "    \"column\": \"HighCholesterol\",\n",
    "    \"value_set\": [\n",
    "      0,\n",
    "      1\n",
    "    ]\n",
    "  },\n",
    "  \"expectation_type\": \"expect_column_distinct_values_to_be_in_set\"\n",
    "})\n",
    "suite.add_expectation(expectation_configuration=expectation_configuration)"
   ]
  },
  {
   "cell_type": "markdown",
   "id": "d9463adf",
   "metadata": {},
   "source": [
    "#### `HeartDiseaseorAttack`"
   ]
  },
  {
   "cell_type": "code",
   "execution_count": 42,
   "id": "e54b05b5",
   "metadata": {},
   "outputs": [
    {
     "data": {
      "text/plain": [
       "{\"expectation_type\": \"expect_column_values_to_not_be_null\", \"meta\": {\"profiler_details\": {\"metric_configuration\": {\"domain_kwargs\": {\"column\": \"HeartDiseaseorAttack\"}, \"metric_name\": \"column_values.nonnull.unexpected_count\", \"metric_value_kwargs\": null}, \"num_batches\": 1}}, \"kwargs\": {\"column\": \"HeartDiseaseorAttack\"}}"
      ]
     },
     "execution_count": 42,
     "metadata": {},
     "output_type": "execute_result"
    }
   ],
   "source": [
    "\n",
    "expectation_configuration = ExpectationConfiguration(**{\n",
    "  \"meta\": {\n",
    "    \"profiler_details\": {\n",
    "      \"metric_configuration\": {\n",
    "        \"domain_kwargs\": {\n",
    "          \"column\": \"HeartDiseaseorAttack\"\n",
    "        },\n",
    "        \"metric_name\": \"column_values.nonnull.unexpected_count\",\n",
    "        \"metric_value_kwargs\": None\n",
    "      },\n",
    "      \"num_batches\": 1\n",
    "    }\n",
    "  },\n",
    "  \"kwargs\": {\n",
    "    \"column\": \"HeartDiseaseorAttack\"\n",
    "  },\n",
    "  \"expectation_type\": \"expect_column_values_to_not_be_null\"\n",
    "})\n",
    "suite.add_expectation(expectation_configuration=expectation_configuration)"
   ]
  },
  {
   "cell_type": "code",
   "execution_count": 43,
   "id": "eaa8cd48",
   "metadata": {},
   "outputs": [
    {
     "data": {
      "text/plain": [
       "{\"expectation_type\": \"expect_column_most_common_value_to_be_in_set\", \"meta\": {\"UserConfigurableProfiler\": {\"confidence\": \"very low\"}}, \"kwargs\": {\"column\": \"HeartDiseaseorAttack\", \"value_set\": [0, 1]}}"
      ]
     },
     "execution_count": 43,
     "metadata": {},
     "output_type": "execute_result"
    }
   ],
   "source": [
    "\n",
    "expectation_configuration = ExpectationConfiguration(**{\n",
    "  \"meta\": {\n",
    "    \"UserConfigurableProfiler\": {\n",
    "      \"confidence\": \"very low\"\n",
    "    }\n",
    "  },\n",
    "  \"kwargs\": {\n",
    "    \"column\": \"HeartDiseaseorAttack\",\n",
    "    \"value_set\": [\n",
    "      0,\n",
    "      1\n",
    "    ]\n",
    "  },\n",
    "  \"expectation_type\": \"expect_column_most_common_value_to_be_in_set\"\n",
    "})\n",
    "suite.add_expectation(expectation_configuration=expectation_configuration)"
   ]
  },
  {
   "cell_type": "markdown",
   "id": "24fa9755",
   "metadata": {},
   "source": [
    "#### `Asthama`"
   ]
  },
  {
   "cell_type": "code",
   "execution_count": 44,
   "id": "13bc3ad3",
   "metadata": {},
   "outputs": [
    {
     "data": {
      "text/plain": [
       "{\"expectation_type\": \"expect_column_values_to_not_be_null\", \"meta\": {\"profiler_details\": {\"metric_configuration\": {\"domain_kwargs\": {\"column\": \"Asthama\"}, \"metric_name\": \"column_values.nonnull.unexpected_count\", \"metric_value_kwargs\": null}, \"num_batches\": 1}}, \"kwargs\": {\"column\": \"Asthama\"}}"
      ]
     },
     "execution_count": 44,
     "metadata": {},
     "output_type": "execute_result"
    }
   ],
   "source": [
    "\n",
    "expectation_configuration = ExpectationConfiguration(**{\n",
    "  \"meta\": {\n",
    "    \"profiler_details\": {\n",
    "      \"metric_configuration\": {\n",
    "        \"domain_kwargs\": {\n",
    "          \"column\": \"Asthama\"\n",
    "        },\n",
    "        \"metric_name\": \"column_values.nonnull.unexpected_count\",\n",
    "        \"metric_value_kwargs\": None\n",
    "      },\n",
    "      \"num_batches\": 1\n",
    "    }\n",
    "  },\n",
    "  \"kwargs\": {\n",
    "    \"column\": \"Asthama\"\n",
    "  },\n",
    "  \"expectation_type\": \"expect_column_values_to_not_be_null\"\n",
    "})\n",
    "suite.add_expectation(expectation_configuration=expectation_configuration)"
   ]
  },
  {
   "cell_type": "code",
   "execution_count": 45,
   "id": "336c8139",
   "metadata": {},
   "outputs": [
    {
     "data": {
      "text/plain": [
       "{\"expectation_type\": \"expect_column_distinct_values_to_be_in_set\", \"meta\": {\"UserConfigurableProfiler\": {\"confidence\": \"very low\"}}, \"kwargs\": {\"column\": \"Asthama\", \"value_set\": [0, 1]}}"
      ]
     },
     "execution_count": 45,
     "metadata": {},
     "output_type": "execute_result"
    }
   ],
   "source": [
    "\n",
    "expectation_configuration = ExpectationConfiguration(**{\n",
    "  \"meta\": {\n",
    "    \"UserConfigurableProfiler\": {\n",
    "      \"confidence\": \"very low\"\n",
    "    }\n",
    "  },\n",
    "  \"kwargs\": {\n",
    "    \"column\": \"Asthama\",\n",
    "    \"value_set\": [\n",
    "      0,\n",
    "      1\n",
    "    ]\n",
    "  },\n",
    "  \"expectation_type\": \"expect_column_distinct_values_to_be_in_set\"\n",
    "})\n",
    "suite.add_expectation(expectation_configuration=expectation_configuration)"
   ]
  },
  {
   "cell_type": "markdown",
   "id": "27cd677f",
   "metadata": {},
   "source": [
    "#### `DifficultyWalk`"
   ]
  },
  {
   "cell_type": "code",
   "execution_count": 46,
   "id": "01b36db7",
   "metadata": {},
   "outputs": [
    {
     "data": {
      "text/plain": [
       "{\"expectation_type\": \"expect_column_values_to_not_be_null\", \"meta\": {\"profiler_details\": {\"metric_configuration\": {\"domain_kwargs\": {\"column\": \"DifficultyWalk\"}, \"metric_name\": \"column_values.nonnull.unexpected_count\", \"metric_value_kwargs\": null}, \"num_batches\": 1}}, \"kwargs\": {\"column\": \"DifficultyWalk\"}}"
      ]
     },
     "execution_count": 46,
     "metadata": {},
     "output_type": "execute_result"
    }
   ],
   "source": [
    "\n",
    "expectation_configuration = ExpectationConfiguration(**{\n",
    "  \"meta\": {\n",
    "    \"profiler_details\": {\n",
    "      \"metric_configuration\": {\n",
    "        \"domain_kwargs\": {\n",
    "          \"column\": \"DifficultyWalk\"\n",
    "        },\n",
    "        \"metric_name\": \"column_values.nonnull.unexpected_count\",\n",
    "        \"metric_value_kwargs\": None\n",
    "      },\n",
    "      \"num_batches\": 1\n",
    "    }\n",
    "  },\n",
    "  \"kwargs\": {\n",
    "    \"column\": \"DifficultyWalk\"\n",
    "  },\n",
    "  \"expectation_type\": \"expect_column_values_to_not_be_null\"\n",
    "})\n",
    "suite.add_expectation(expectation_configuration=expectation_configuration)"
   ]
  },
  {
   "cell_type": "code",
   "execution_count": 47,
   "id": "e7f46509",
   "metadata": {},
   "outputs": [
    {
     "data": {
      "text/plain": [
       "{\"expectation_type\": \"expect_column_distinct_values_to_be_in_set\", \"meta\": {\"UserConfigurableProfiler\": {\"confidence\": \"very low\"}}, \"kwargs\": {\"column\": \"DifficultyWalk\", \"value_set\": [0, 1]}}"
      ]
     },
     "execution_count": 47,
     "metadata": {},
     "output_type": "execute_result"
    }
   ],
   "source": [
    "\n",
    "expectation_configuration = ExpectationConfiguration(**{\n",
    "  \"meta\": {\n",
    "    \"UserConfigurableProfiler\": {\n",
    "      \"confidence\": \"very low\"\n",
    "    }\n",
    "  },\n",
    "  \"kwargs\": {\n",
    "    \"column\": \"DifficultyWalk\",\n",
    "    \"value_set\": [\n",
    "      0,\n",
    "      1\n",
    "    ]\n",
    "  },\n",
    "  \"expectation_type\": \"expect_column_distinct_values_to_be_in_set\"\n",
    "})\n",
    "suite.add_expectation(expectation_configuration=expectation_configuration)"
   ]
  },
  {
   "cell_type": "markdown",
   "id": "4e354141",
   "metadata": {},
   "source": [
    "#### `KidneyDisease`"
   ]
  },
  {
   "cell_type": "code",
   "execution_count": 48,
   "id": "2a9a9b9f",
   "metadata": {},
   "outputs": [
    {
     "data": {
      "text/plain": [
       "{\"expectation_type\": \"expect_column_values_to_not_be_null\", \"meta\": {\"profiler_details\": {\"metric_configuration\": {\"domain_kwargs\": {\"column\": \"KidneyDisease\"}, \"metric_name\": \"column_values.nonnull.unexpected_count\", \"metric_value_kwargs\": null}, \"num_batches\": 1}}, \"kwargs\": {\"column\": \"KidneyDisease\"}}"
      ]
     },
     "execution_count": 48,
     "metadata": {},
     "output_type": "execute_result"
    }
   ],
   "source": [
    "\n",
    "expectation_configuration = ExpectationConfiguration(**{\n",
    "  \"meta\": {\n",
    "    \"profiler_details\": {\n",
    "      \"metric_configuration\": {\n",
    "        \"domain_kwargs\": {\n",
    "          \"column\": \"KidneyDisease\"\n",
    "        },\n",
    "        \"metric_name\": \"column_values.nonnull.unexpected_count\",\n",
    "        \"metric_value_kwargs\": None\n",
    "      },\n",
    "      \"num_batches\": 1\n",
    "    }\n",
    "  },\n",
    "  \"kwargs\": {\n",
    "    \"column\": \"KidneyDisease\"\n",
    "  },\n",
    "  \"expectation_type\": \"expect_column_values_to_not_be_null\"\n",
    "})\n",
    "suite.add_expectation(expectation_configuration=expectation_configuration)"
   ]
  },
  {
   "cell_type": "code",
   "execution_count": 49,
   "id": "4fb230ba",
   "metadata": {},
   "outputs": [
    {
     "data": {
      "text/plain": [
       "{\"expectation_type\": \"expect_column_distinct_values_to_be_in_set\", \"meta\": {\"UserConfigurableProfiler\": {\"confidence\": \"very low\"}}, \"kwargs\": {\"column\": \"KidneyDisease\", \"value_set\": [0, 1]}}"
      ]
     },
     "execution_count": 49,
     "metadata": {},
     "output_type": "execute_result"
    }
   ],
   "source": [
    "\n",
    "expectation_configuration = ExpectationConfiguration(**{\n",
    "  \"meta\": {\n",
    "    \"UserConfigurableProfiler\": {\n",
    "      \"confidence\": \"very low\"\n",
    "    }\n",
    "  },\n",
    "  \"kwargs\": {\n",
    "    \"column\": \"KidneyDisease\",\n",
    "    \"value_set\": [\n",
    "      0,\n",
    "      1\n",
    "    ]\n",
    "  },\n",
    "  \"expectation_type\": \"expect_column_distinct_values_to_be_in_set\"\n",
    "})\n",
    "suite.add_expectation(expectation_configuration=expectation_configuration)"
   ]
  },
  {
   "cell_type": "markdown",
   "id": "667cc93d",
   "metadata": {},
   "source": [
    "#### `Obese`"
   ]
  },
  {
   "cell_type": "code",
   "execution_count": 50,
   "id": "a4106868",
   "metadata": {},
   "outputs": [
    {
     "data": {
      "text/plain": [
       "{\"expectation_type\": \"expect_column_values_to_not_be_null\", \"meta\": {\"profiler_details\": {\"metric_configuration\": {\"domain_kwargs\": {\"column\": \"Obese\"}, \"metric_name\": \"column_values.nonnull.unexpected_count\", \"metric_value_kwargs\": null}, \"num_batches\": 1}}, \"kwargs\": {\"column\": \"Obese\"}}"
      ]
     },
     "execution_count": 50,
     "metadata": {},
     "output_type": "execute_result"
    }
   ],
   "source": [
    "\n",
    "expectation_configuration = ExpectationConfiguration(**{\n",
    "  \"meta\": {\n",
    "    \"profiler_details\": {\n",
    "      \"metric_configuration\": {\n",
    "        \"domain_kwargs\": {\n",
    "          \"column\": \"Obese\"\n",
    "        },\n",
    "        \"metric_name\": \"column_values.nonnull.unexpected_count\",\n",
    "        \"metric_value_kwargs\": None\n",
    "      },\n",
    "      \"num_batches\": 1\n",
    "    }\n",
    "  },\n",
    "  \"kwargs\": {\n",
    "    \"column\": \"Obese\"\n",
    "  },\n",
    "  \"expectation_type\": \"expect_column_values_to_not_be_null\"\n",
    "})\n",
    "suite.add_expectation(expectation_configuration=expectation_configuration)"
   ]
  },
  {
   "cell_type": "code",
   "execution_count": 51,
   "id": "ae853e5b",
   "metadata": {},
   "outputs": [
    {
     "data": {
      "text/plain": [
       "{\"expectation_type\": \"expect_column_distinct_values_to_be_in_set\", \"meta\": {\"UserConfigurableProfiler\": {\"confidence\": \"very low\"}}, \"kwargs\": {\"column\": \"Obese\", \"value_set\": [0, 1]}}"
      ]
     },
     "execution_count": 51,
     "metadata": {},
     "output_type": "execute_result"
    }
   ],
   "source": [
    "\n",
    "expectation_configuration = ExpectationConfiguration(**{\n",
    "  \"meta\": {\n",
    "    \"UserConfigurableProfiler\": {\n",
    "      \"confidence\": \"very low\"\n",
    "    }\n",
    "  },\n",
    "  \"kwargs\": {\n",
    "    \"column\": \"Obese\",\n",
    "    \"value_set\": [\n",
    "      0,\n",
    "      1\n",
    "    ]\n",
    "  },\n",
    "  \"expectation_type\": \"expect_column_distinct_values_to_be_in_set\"\n",
    "})\n",
    "suite.add_expectation(expectation_configuration=expectation_configuration)"
   ]
  },
  {
   "cell_type": "markdown",
   "id": "02d95c24",
   "metadata": {},
   "source": [
    "#### `Veggies`"
   ]
  },
  {
   "cell_type": "code",
   "execution_count": 52,
   "id": "359080d9",
   "metadata": {},
   "outputs": [
    {
     "data": {
      "text/plain": [
       "{\"expectation_type\": \"expect_column_values_to_not_be_null\", \"meta\": {\"profiler_details\": {\"metric_configuration\": {\"domain_kwargs\": {\"column\": \"Veggies\"}, \"metric_name\": \"column_values.nonnull.unexpected_count\", \"metric_value_kwargs\": null}, \"num_batches\": 1}}, \"kwargs\": {\"column\": \"Veggies\"}}"
      ]
     },
     "execution_count": 52,
     "metadata": {},
     "output_type": "execute_result"
    }
   ],
   "source": [
    "\n",
    "expectation_configuration = ExpectationConfiguration(**{\n",
    "  \"meta\": {\n",
    "    \"profiler_details\": {\n",
    "      \"metric_configuration\": {\n",
    "        \"domain_kwargs\": {\n",
    "          \"column\": \"Veggies\"\n",
    "        },\n",
    "        \"metric_name\": \"column_values.nonnull.unexpected_count\",\n",
    "        \"metric_value_kwargs\": None\n",
    "      },\n",
    "      \"num_batches\": 1\n",
    "    }\n",
    "  },\n",
    "  \"kwargs\": {\n",
    "    \"column\": \"Veggies\"\n",
    "  },\n",
    "  \"expectation_type\": \"expect_column_values_to_not_be_null\"\n",
    "})\n",
    "suite.add_expectation(expectation_configuration=expectation_configuration)"
   ]
  },
  {
   "cell_type": "code",
   "execution_count": 53,
   "id": "b0f5cecb",
   "metadata": {},
   "outputs": [
    {
     "data": {
      "text/plain": [
       "{\"expectation_type\": \"expect_column_distinct_values_to_be_in_set\", \"meta\": {\"UserConfigurableProfiler\": {\"confidence\": \"very low\"}}, \"kwargs\": {\"column\": \"Veggies\", \"value_set\": [0, 1]}}"
      ]
     },
     "execution_count": 53,
     "metadata": {},
     "output_type": "execute_result"
    }
   ],
   "source": [
    "\n",
    "expectation_configuration = ExpectationConfiguration(**{\n",
    "  \"meta\": {\n",
    "    \"UserConfigurableProfiler\": {\n",
    "      \"confidence\": \"very low\"\n",
    "    }\n",
    "  },\n",
    "  \"kwargs\": {\n",
    "    \"column\": \"Veggies\",\n",
    "    \"value_set\": [\n",
    "      0,\n",
    "      1\n",
    "    ]\n",
    "  },\n",
    "  \"expectation_type\": \"expect_column_distinct_values_to_be_in_set\"\n",
    "})\n",
    "suite.add_expectation(expectation_configuration=expectation_configuration)"
   ]
  },
  {
   "cell_type": "markdown",
   "id": "075179f0",
   "metadata": {},
   "source": [
    "#### `SkinCancer`"
   ]
  },
  {
   "cell_type": "code",
   "execution_count": 54,
   "id": "ba361047",
   "metadata": {},
   "outputs": [
    {
     "data": {
      "text/plain": [
       "{\"expectation_type\": \"expect_column_values_to_not_be_null\", \"meta\": {\"profiler_details\": {\"metric_configuration\": {\"domain_kwargs\": {\"column\": \"SkinCancer\"}, \"metric_name\": \"column_values.nonnull.unexpected_count\", \"metric_value_kwargs\": null}, \"num_batches\": 1}}, \"kwargs\": {\"column\": \"SkinCancer\"}}"
      ]
     },
     "execution_count": 54,
     "metadata": {},
     "output_type": "execute_result"
    }
   ],
   "source": [
    "\n",
    "expectation_configuration = ExpectationConfiguration(**{\n",
    "  \"meta\": {\n",
    "    \"profiler_details\": {\n",
    "      \"metric_configuration\": {\n",
    "        \"domain_kwargs\": {\n",
    "          \"column\": \"SkinCancer\"\n",
    "        },\n",
    "        \"metric_name\": \"column_values.nonnull.unexpected_count\",\n",
    "        \"metric_value_kwargs\": None\n",
    "      },\n",
    "      \"num_batches\": 1\n",
    "    }\n",
    "  },\n",
    "  \"kwargs\": {\n",
    "    \"column\": \"SkinCancer\"\n",
    "  },\n",
    "  \"expectation_type\": \"expect_column_values_to_not_be_null\"\n",
    "})\n",
    "suite.add_expectation(expectation_configuration=expectation_configuration)"
   ]
  },
  {
   "cell_type": "code",
   "execution_count": 55,
   "id": "d37b7179",
   "metadata": {},
   "outputs": [
    {
     "data": {
      "text/plain": [
       "{\"expectation_type\": \"expect_column_distinct_values_to_be_in_set\", \"meta\": {\"UserConfigurableProfiler\": {\"confidence\": \"very low\"}}, \"kwargs\": {\"column\": \"SkinCancer\", \"value_set\": [0, 1]}}"
      ]
     },
     "execution_count": 55,
     "metadata": {},
     "output_type": "execute_result"
    }
   ],
   "source": [
    "\n",
    "expectation_configuration = ExpectationConfiguration(**{\n",
    "  \"meta\": {\n",
    "    \"UserConfigurableProfiler\": {\n",
    "      \"confidence\": \"very low\"\n",
    "    }\n",
    "  },\n",
    "  \"kwargs\": {\n",
    "    \"column\": \"SkinCancer\",\n",
    "    \"value_set\": [\n",
    "      0,\n",
    "      1\n",
    "    ]\n",
    "  },\n",
    "  \"expectation_type\": \"expect_column_distinct_values_to_be_in_set\"\n",
    "})\n",
    "suite.add_expectation(expectation_configuration=expectation_configuration)"
   ]
  },
  {
   "cell_type": "markdown",
   "id": "f0f7efa9",
   "metadata": {},
   "source": [
    "#### `NoDocbcozCost`"
   ]
  },
  {
   "cell_type": "code",
   "execution_count": 56,
   "id": "51d67bed",
   "metadata": {},
   "outputs": [
    {
     "data": {
      "text/plain": [
       "{\"expectation_type\": \"expect_column_values_to_not_be_null\", \"meta\": {\"profiler_details\": {\"metric_configuration\": {\"domain_kwargs\": {\"column\": \"NoDocbcozCost\"}, \"metric_name\": \"column_values.nonnull.unexpected_count\", \"metric_value_kwargs\": null}, \"num_batches\": 1}}, \"kwargs\": {\"column\": \"NoDocbcozCost\"}}"
      ]
     },
     "execution_count": 56,
     "metadata": {},
     "output_type": "execute_result"
    }
   ],
   "source": [
    "\n",
    "expectation_configuration = ExpectationConfiguration(**{\n",
    "  \"meta\": {\n",
    "    \"profiler_details\": {\n",
    "      \"metric_configuration\": {\n",
    "        \"domain_kwargs\": {\n",
    "          \"column\": \"NoDocbcozCost\"\n",
    "        },\n",
    "        \"metric_name\": \"column_values.nonnull.unexpected_count\",\n",
    "        \"metric_value_kwargs\": None\n",
    "      },\n",
    "      \"num_batches\": 1\n",
    "    }\n",
    "  },\n",
    "  \"kwargs\": {\n",
    "    \"column\": \"NoDocbcozCost\"\n",
    "  },\n",
    "  \"expectation_type\": \"expect_column_values_to_not_be_null\"\n",
    "})\n",
    "suite.add_expectation(expectation_configuration=expectation_configuration)"
   ]
  },
  {
   "cell_type": "code",
   "execution_count": 57,
   "id": "db63f4de",
   "metadata": {},
   "outputs": [
    {
     "data": {
      "text/plain": [
       "{\"expectation_type\": \"expect_column_distinct_values_to_be_in_set\", \"meta\": {\"UserConfigurableProfiler\": {\"confidence\": \"very low\"}}, \"kwargs\": {\"column\": \"NoDocbcozCost\", \"value_set\": [0, 1]}}"
      ]
     },
     "execution_count": 57,
     "metadata": {},
     "output_type": "execute_result"
    }
   ],
   "source": [
    "\n",
    "expectation_configuration = ExpectationConfiguration(**{\n",
    "  \"meta\": {\n",
    "    \"UserConfigurableProfiler\": {\n",
    "      \"confidence\": \"very low\"\n",
    "    }\n",
    "  },\n",
    "  \"kwargs\": {\n",
    "    \"column\": \"NoDocbcozCost\",\n",
    "    \"value_set\": [\n",
    "      0,\n",
    "      1\n",
    "    ]\n",
    "  },\n",
    "  \"expectation_type\": \"expect_column_distinct_values_to_be_in_set\"\n",
    "})\n",
    "suite.add_expectation(expectation_configuration=expectation_configuration)"
   ]
  },
  {
   "cell_type": "markdown",
   "id": "2d1955af",
   "metadata": {},
   "source": [
    "#### `CholesterolCheck`"
   ]
  },
  {
   "cell_type": "code",
   "execution_count": 58,
   "id": "21dca615",
   "metadata": {},
   "outputs": [
    {
     "data": {
      "text/plain": [
       "{\"expectation_type\": \"expect_column_values_to_not_be_null\", \"meta\": {\"profiler_details\": {\"metric_configuration\": {\"domain_kwargs\": {\"column\": \"CholesterolCheck\"}, \"metric_name\": \"column_values.nonnull.unexpected_count\", \"metric_value_kwargs\": null}, \"num_batches\": 1}}, \"kwargs\": {\"column\": \"CholesterolCheck\"}}"
      ]
     },
     "execution_count": 58,
     "metadata": {},
     "output_type": "execute_result"
    }
   ],
   "source": [
    "\n",
    "expectation_configuration = ExpectationConfiguration(**{\n",
    "  \"meta\": {\n",
    "    \"profiler_details\": {\n",
    "      \"metric_configuration\": {\n",
    "        \"domain_kwargs\": {\n",
    "          \"column\": \"CholesterolCheck\"\n",
    "        },\n",
    "        \"metric_name\": \"column_values.nonnull.unexpected_count\",\n",
    "        \"metric_value_kwargs\": None\n",
    "      },\n",
    "      \"num_batches\": 1\n",
    "    }\n",
    "  },\n",
    "  \"kwargs\": {\n",
    "    \"column\": \"CholesterolCheck\"\n",
    "  },\n",
    "  \"expectation_type\": \"expect_column_values_to_not_be_null\"\n",
    "})\n",
    "suite.add_expectation(expectation_configuration=expectation_configuration)"
   ]
  },
  {
   "cell_type": "code",
   "execution_count": 59,
   "id": "f4e86c87",
   "metadata": {},
   "outputs": [
    {
     "data": {
      "text/plain": [
       "{\"expectation_type\": \"expect_column_distinct_values_to_be_in_set\", \"meta\": {\"UserConfigurableProfiler\": {\"confidence\": \"very low\"}}, \"kwargs\": {\"column\": \"CholesterolCheck\", \"value_set\": [0, 1]}}"
      ]
     },
     "execution_count": 59,
     "metadata": {},
     "output_type": "execute_result"
    }
   ],
   "source": [
    "\n",
    "expectation_configuration = ExpectationConfiguration(**{\n",
    "  \"meta\": {\n",
    "    \"UserConfigurableProfiler\": {\n",
    "      \"confidence\": \"very low\"\n",
    "    }\n",
    "  },\n",
    "  \"kwargs\": {\n",
    "    \"column\": \"CholesterolCheck\",\n",
    "    \"value_set\": [\n",
    "      0,\n",
    "      1\n",
    "    ]\n",
    "  },\n",
    "  \"expectation_type\": \"expect_column_distinct_values_to_be_in_set\"\n",
    "})\n",
    "suite.add_expectation(expectation_configuration=expectation_configuration)"
   ]
  },
  {
   "cell_type": "markdown",
   "id": "58c8e2ab",
   "metadata": {},
   "source": [
    "#### `Income`"
   ]
  },
  {
   "cell_type": "code",
   "execution_count": 60,
   "id": "900d34d8",
   "metadata": {},
   "outputs": [
    {
     "data": {
      "text/plain": [
       "{\"expectation_type\": \"expect_column_values_to_not_be_null\", \"meta\": {\"profiler_details\": {\"metric_configuration\": {\"domain_kwargs\": {\"column\": \"Income\"}, \"metric_name\": \"column_values.nonnull.unexpected_count\", \"metric_value_kwargs\": null}, \"num_batches\": 1}}, \"kwargs\": {\"column\": \"Income\"}}"
      ]
     },
     "execution_count": 60,
     "metadata": {},
     "output_type": "execute_result"
    }
   ],
   "source": [
    "\n",
    "expectation_configuration = ExpectationConfiguration(**{\n",
    "  \"meta\": {\n",
    "    \"profiler_details\": {\n",
    "      \"metric_configuration\": {\n",
    "        \"domain_kwargs\": {\n",
    "          \"column\": \"Income\"\n",
    "        },\n",
    "        \"metric_name\": \"column_values.nonnull.unexpected_count\",\n",
    "        \"metric_value_kwargs\": None\n",
    "      },\n",
    "      \"num_batches\": 1\n",
    "    }\n",
    "  },\n",
    "  \"kwargs\": {\n",
    "    \"column\": \"Income\"\n",
    "  },\n",
    "  \"expectation_type\": \"expect_column_values_to_not_be_null\"\n",
    "})\n",
    "suite.add_expectation(expectation_configuration=expectation_configuration)"
   ]
  },
  {
   "cell_type": "code",
   "execution_count": 61,
   "id": "747d9bde",
   "metadata": {},
   "outputs": [
    {
     "data": {
      "text/plain": [
       "{\"expectation_type\": \"expect_column_distinct_values_to_be_in_set\", \"meta\": {\"UserConfigurableProfiler\": {\"confidence\": \"very low\"}}, \"kwargs\": {\"column\": \"Income\", \"value_set\": [1.0, 2.0, 3.0, 4.0, 5.0, 6.0, 7.0, 8.0, 9.0, 10.0, 11.0]}}"
      ]
     },
     "execution_count": 61,
     "metadata": {},
     "output_type": "execute_result"
    }
   ],
   "source": [
    "\n",
    "expectation_configuration = ExpectationConfiguration(**{\n",
    "  \"meta\": {\n",
    "    \"UserConfigurableProfiler\": {\n",
    "      \"confidence\": \"very low\"\n",
    "    }\n",
    "  },\n",
    "  \"kwargs\": {\n",
    "    \"column\": \"Income\",\n",
    "    \"value_set\": [\n",
    "      1.0,\n",
    "      2.0,\n",
    "      3.0,\n",
    "      4.0,\n",
    "      5.0,\n",
    "      6.0,\n",
    "      7.0,\n",
    "      8.0,\n",
    "      9.0,\n",
    "      10.0,\n",
    "      11.0\n",
    "    ]\n",
    "  },\n",
    "  \"expectation_type\": \"expect_column_distinct_values_to_be_in_set\"\n",
    "})\n",
    "suite.add_expectation(expectation_configuration=expectation_configuration)"
   ]
  },
  {
   "cell_type": "markdown",
   "id": "86ca4af7",
   "metadata": {},
   "source": [
    "#### `MentalHealth`"
   ]
  },
  {
   "cell_type": "code",
   "execution_count": 62,
   "id": "14d183c1",
   "metadata": {},
   "outputs": [
    {
     "data": {
      "text/plain": [
       "{\"expectation_type\": \"expect_column_values_to_not_be_null\", \"meta\": {\"profiler_details\": {\"metric_configuration\": {\"domain_kwargs\": {\"column\": \"MentalHealth\"}, \"metric_name\": \"column_values.nonnull.unexpected_count\", \"metric_value_kwargs\": null}, \"num_batches\": 1}}, \"kwargs\": {\"column\": \"MentalHealth\"}}"
      ]
     },
     "execution_count": 62,
     "metadata": {},
     "output_type": "execute_result"
    }
   ],
   "source": [
    "\n",
    "expectation_configuration = ExpectationConfiguration(**{\n",
    "  \"meta\": {\n",
    "    \"profiler_details\": {\n",
    "      \"metric_configuration\": {\n",
    "        \"domain_kwargs\": {\n",
    "          \"column\": \"MentalHealth\"\n",
    "        },\n",
    "        \"metric_name\": \"column_values.nonnull.unexpected_count\",\n",
    "        \"metric_value_kwargs\": None\n",
    "      },\n",
    "      \"num_batches\": 1\n",
    "    }\n",
    "  },\n",
    "  \"kwargs\": {\n",
    "    \"column\": \"MentalHealth\"\n",
    "  },\n",
    "  \"expectation_type\": \"expect_column_values_to_not_be_null\"\n",
    "})\n",
    "suite.add_expectation(expectation_configuration=expectation_configuration)"
   ]
  },
  {
   "cell_type": "code",
   "execution_count": 63,
   "id": "ebb72f02",
   "metadata": {},
   "outputs": [
    {
     "data": {
      "text/plain": [
       "{\"expectation_type\": \"expect_column_min_to_be_between\", \"meta\": {\"profiler_details\": {\"metric_configuration\": {\"domain_kwargs\": {\"column\": \"MentalHealth\"}, \"metric_name\": \"column.min\", \"metric_value_kwargs\": null}, \"num_batches\": 1}}, \"kwargs\": {\"column\": \"MentalHealth\", \"max_value\": 30, \"min_value\": 0, \"strict_max\": false, \"strict_min\": false}}"
      ]
     },
     "execution_count": 63,
     "metadata": {},
     "output_type": "execute_result"
    }
   ],
   "source": [
    "\n",
    "expectation_configuration = ExpectationConfiguration(**{\n",
    "  \"meta\": {\n",
    "    \"profiler_details\": {\n",
    "      \"metric_configuration\": {\n",
    "        \"domain_kwargs\": {\n",
    "          \"column\": \"MentalHealth\"\n",
    "        },\n",
    "        \"metric_name\": \"column.min\",\n",
    "        \"metric_value_kwargs\": None\n",
    "      },\n",
    "      \"num_batches\": 1\n",
    "    }\n",
    "  },\n",
    "  \"kwargs\": {\n",
    "    \"column\": \"MentalHealth\",\n",
    "    \"max_value\": 30,\n",
    "    \"min_value\": 0,\n",
    "    \"strict_max\": False,\n",
    "    \"strict_min\": False\n",
    "  },\n",
    "  \"expectation_type\": \"expect_column_min_to_be_between\"\n",
    "})\n",
    "suite.add_expectation(expectation_configuration=expectation_configuration)"
   ]
  },
  {
   "cell_type": "code",
   "execution_count": 64,
   "id": "bee9567e",
   "metadata": {},
   "outputs": [
    {
     "data": {
      "text/plain": [
       "{\"expectation_type\": \"expect_column_median_to_be_between\", \"meta\": {\"profiler_details\": {\"metric_configuration\": {\"domain_kwargs\": {\"column\": \"MentalHealth\"}, \"metric_name\": \"column.median\", \"metric_value_kwargs\": null}, \"num_batches\": 1}}, \"kwargs\": {\"column\": \"MentalHealth\", \"max_value\": 30, \"min_value\": 0, \"strict_max\": false, \"strict_min\": false}}"
      ]
     },
     "execution_count": 64,
     "metadata": {},
     "output_type": "execute_result"
    }
   ],
   "source": [
    "\n",
    "expectation_configuration = ExpectationConfiguration(**{\n",
    "  \"meta\": {\n",
    "    \"profiler_details\": {\n",
    "      \"metric_configuration\": {\n",
    "        \"domain_kwargs\": {\n",
    "          \"column\": \"MentalHealth\"\n",
    "        },\n",
    "        \"metric_name\": \"column.median\",\n",
    "        \"metric_value_kwargs\": None\n",
    "      },\n",
    "      \"num_batches\": 1\n",
    "    }\n",
    "  },\n",
    "  \"kwargs\": {\n",
    "    \"column\": \"MentalHealth\",\n",
    "    \"max_value\": 30,\n",
    "    \"min_value\": 0,\n",
    "    \"strict_max\": False,\n",
    "    \"strict_min\": False\n",
    "  },\n",
    "  \"expectation_type\": \"expect_column_median_to_be_between\"\n",
    "})\n",
    "suite.add_expectation(expectation_configuration=expectation_configuration)"
   ]
  },
  {
   "cell_type": "markdown",
   "id": "4c3d33b5",
   "metadata": {},
   "source": [
    "## Review & Save Your Expectations\n",
    "\n",
    "Let's save the expectation suite as a JSON file in the `great_expectations/expectations` directory of your project.\n",
    "\n",
    "Let's now rebuild your Data Docs, which helps you communicate about your data with both machines and humans."
   ]
  },
  {
   "cell_type": "code",
   "execution_count": 65,
   "id": "865a0e1c",
   "metadata": {},
   "outputs": [
    {
     "name": "stdout",
     "output_type": "stream",
     "text": [
      "{\n",
      "  \"data_asset_type\": null,\n",
      "  \"ge_cloud_id\": null,\n",
      "  \"meta\": {\n",
      "    \"citations\": [\n",
      "      {\n",
      "        \"citation_date\": \"2023-04-25T15:23:51.566698Z\",\n",
      "        \"comment\": \"Created by effective Rule-Based Profiler of OnboardingDataAssistant with the configuration included.\\n\"\n",
      "      }\n",
      "    ],\n",
      "    \"great_expectations_version\": \"0.15.49\"\n",
      "  },\n",
      "  \"expectations\": [\n",
      "    {\n",
      "      \"expectation_type\": \"expect_table_row_count_to_be_between\",\n",
      "      \"meta\": {\n",
      "        \"profiler_details\": {\n",
      "          \"metric_configuration\": {\n",
      "            \"domain_kwargs\": {},\n",
      "            \"metric_name\": \"table.row_count\",\n",
      "            \"metric_value_kwargs\": null\n",
      "          },\n",
      "          \"num_batches\": 1\n",
      "        }\n",
      "      },\n",
      "      \"kwargs\": {\n",
      "        \"max_value\": 39452,\n",
      "        \"min_value\": 39452\n",
      "      }\n",
      "    },\n",
      "    {\n",
      "      \"expectation_type\": \"expect_table_columns_to_match_set\",\n",
      "      \"meta\": {\n",
      "        \"profiler_details\": {\n",
      "          \"success_ratio\": 1.0\n",
      "        }\n",
      "      },\n",
      "      \"kwargs\": {\n",
      "        \"column_set\": [\n",
      "          \"Diabetes\",\n",
      "          \"Age\",\n",
      "          \"Race\",\n",
      "          \"Stroke\",\n",
      "          \"BMI\",\n",
      "          \"HeavyAlcoholConsump\",\n",
      "          \"Fruits\",\n",
      "          \"PhysicalHlth\",\n",
      "          \"GeneralHealth\",\n",
      "          \"Education\",\n",
      "          \"Sex\",\n",
      "          \"PhysicalActivity\",\n",
      "          \"Smoker\",\n",
      "          \"AnyHealthcare\",\n",
      "          \"HighBP\",\n",
      "          \"HighCholesterol\",\n",
      "          \"HeartDiseaseorAttack\",\n",
      "          \"Asthama\",\n",
      "          \"DifficultyWalk\",\n",
      "          \"KidneyDisease\",\n",
      "          \"Obese\",\n",
      "          \"Veggies\",\n",
      "          \"SkinCancer\",\n",
      "          \"NoDocbcozCost\",\n",
      "          \"CholesterolCheck\",\n",
      "          \"Income\",\n",
      "          \"MentalHealth\"\n",
      "        ]\n",
      "      }\n",
      "    },\n",
      "    {\n",
      "      \"expectation_type\": \"expect_column_values_to_not_be_null\",\n",
      "      \"meta\": {\n",
      "        \"profiler_details\": {\n",
      "          \"metric_configuration\": {\n",
      "            \"domain_kwargs\": {\n",
      "              \"column\": \"Diabetes\"\n",
      "            },\n",
      "            \"metric_name\": \"column_values.nonnull.unexpected_count\",\n",
      "            \"metric_value_kwargs\": null\n",
      "          },\n",
      "          \"num_batches\": 1\n",
      "        }\n",
      "      },\n",
      "      \"kwargs\": {\n",
      "        \"column\": \"Diabetes\"\n",
      "      }\n",
      "    },\n",
      "    {\n",
      "      \"expectation_type\": \"expect_column_most_common_value_to_be_in_set\",\n",
      "      \"meta\": {\n",
      "        \"UserConfigurableProfiler\": {\n",
      "          \"confidence\": \"very low\"\n",
      "        }\n",
      "      },\n",
      "      \"kwargs\": {\n",
      "        \"column\": \"Diabetes\",\n",
      "        \"value_set\": [\n",
      "          0,\n",
      "          1\n",
      "        ]\n",
      "      }\n",
      "    },\n",
      "    {\n",
      "      \"expectation_type\": \"expect_column_values_to_not_be_null\",\n",
      "      \"meta\": {\n",
      "        \"profiler_details\": {\n",
      "          \"metric_configuration\": {\n",
      "            \"domain_kwargs\": {\n",
      "              \"column\": \"Age\"\n",
      "            },\n",
      "            \"metric_name\": \"column_values.nonnull.unexpected_count\",\n",
      "            \"metric_value_kwargs\": null\n",
      "          },\n",
      "          \"num_batches\": 1\n",
      "        }\n",
      "      },\n",
      "      \"kwargs\": {\n",
      "        \"column\": \"Age\"\n",
      "      }\n",
      "    },\n",
      "    {\n",
      "      \"expectation_type\": \"expect_column_distinct_values_to_be_in_set\",\n",
      "      \"meta\": {\n",
      "        \"UserConfigurableProfiler\": {\n",
      "          \"confidence\": \"very low\"\n",
      "        }\n",
      "      },\n",
      "      \"kwargs\": {\n",
      "        \"column\": \"Age\",\n",
      "        \"value_set\": [\n",
      "          1,\n",
      "          2,\n",
      "          3,\n",
      "          4,\n",
      "          5,\n",
      "          6,\n",
      "          7,\n",
      "          8,\n",
      "          9,\n",
      "          10,\n",
      "          11,\n",
      "          12,\n",
      "          13\n",
      "        ]\n",
      "      }\n",
      "    },\n",
      "    {\n",
      "      \"expectation_type\": \"expect_column_most_common_value_to_be_in_set\",\n",
      "      \"meta\": {\n",
      "        \"UserConfigurableProfiler\": {\n",
      "          \"confidence\": \"very low\"\n",
      "        }\n",
      "      },\n",
      "      \"kwargs\": {\n",
      "        \"column\": \"Age\",\n",
      "        \"value_set\": [\n",
      "          1,\n",
      "          2,\n",
      "          3,\n",
      "          4,\n",
      "          5,\n",
      "          6,\n",
      "          7,\n",
      "          8,\n",
      "          9,\n",
      "          10,\n",
      "          11,\n",
      "          12,\n",
      "          13\n",
      "        ]\n",
      "      }\n",
      "    },\n",
      "    {\n",
      "      \"expectation_type\": \"expect_column_values_to_not_be_null\",\n",
      "      \"meta\": {\n",
      "        \"profiler_details\": {\n",
      "          \"metric_configuration\": {\n",
      "            \"domain_kwargs\": {\n",
      "              \"column\": \"Race\"\n",
      "            },\n",
      "            \"metric_name\": \"column_values.nonnull.unexpected_count\",\n",
      "            \"metric_value_kwargs\": null\n",
      "          },\n",
      "          \"num_batches\": 1\n",
      "        }\n",
      "      },\n",
      "      \"kwargs\": {\n",
      "        \"column\": \"Race\"\n",
      "      }\n",
      "    },\n",
      "    {\n",
      "      \"expectation_type\": \"expect_column_distinct_values_to_be_in_set\",\n",
      "      \"meta\": {\n",
      "        \"UserConfigurableProfiler\": {\n",
      "          \"confidence\": \"very low\"\n",
      "        }\n",
      "      },\n",
      "      \"kwargs\": {\n",
      "        \"column\": \"Race\",\n",
      "        \"value_set\": [\n",
      "          1,\n",
      "          2,\n",
      "          3,\n",
      "          4,\n",
      "          5,\n",
      "          6\n",
      "        ]\n",
      "      }\n",
      "    },\n",
      "    {\n",
      "      \"expectation_type\": \"expect_column_most_common_value_to_be_in_set\",\n",
      "      \"meta\": {\n",
      "        \"UserConfigurableProfiler\": {\n",
      "          \"confidence\": \"very low\"\n",
      "        }\n",
      "      },\n",
      "      \"kwargs\": {\n",
      "        \"column\": \"Race\",\n",
      "        \"value_set\": [\n",
      "          1,\n",
      "          2,\n",
      "          3,\n",
      "          4,\n",
      "          5,\n",
      "          6\n",
      "        ]\n",
      "      }\n",
      "    },\n",
      "    {\n",
      "      \"expectation_type\": \"expect_column_values_to_not_be_null\",\n",
      "      \"meta\": {\n",
      "        \"profiler_details\": {\n",
      "          \"metric_configuration\": {\n",
      "            \"domain_kwargs\": {\n",
      "              \"column\": \"Stroke\"\n",
      "            },\n",
      "            \"metric_name\": \"column_values.nonnull.unexpected_count\",\n",
      "            \"metric_value_kwargs\": null\n",
      "          },\n",
      "          \"num_batches\": 1\n",
      "        }\n",
      "      },\n",
      "      \"kwargs\": {\n",
      "        \"column\": \"Stroke\"\n",
      "      }\n",
      "    },\n",
      "    {\n",
      "      \"expectation_type\": \"expect_column_distinct_values_to_be_in_set\",\n",
      "      \"meta\": {\n",
      "        \"UserConfigurableProfiler\": {\n",
      "          \"confidence\": \"very low\"\n",
      "        }\n",
      "      },\n",
      "      \"kwargs\": {\n",
      "        \"column\": \"Stroke\",\n",
      "        \"value_set\": [\n",
      "          0,\n",
      "          1\n",
      "        ]\n",
      "      }\n",
      "    },\n",
      "    {\n",
      "      \"expectation_type\": \"expect_column_values_to_not_be_null\",\n",
      "      \"meta\": {\n",
      "        \"profiler_details\": {\n",
      "          \"metric_configuration\": {\n",
      "            \"domain_kwargs\": {\n",
      "              \"column\": \"BMI\"\n",
      "            },\n",
      "            \"metric_name\": \"column_values.nonnull.unexpected_count\",\n",
      "            \"metric_value_kwargs\": null\n",
      "          },\n",
      "          \"num_batches\": 1\n",
      "        }\n",
      "      },\n",
      "      \"kwargs\": {\n",
      "        \"column\": \"BMI\"\n",
      "      }\n",
      "    },\n",
      "    {\n",
      "      \"expectation_type\": \"expect_column_min_to_be_between\",\n",
      "      \"meta\": {\n",
      "        \"profiler_details\": {\n",
      "          \"metric_configuration\": {\n",
      "            \"domain_kwargs\": {\n",
      "              \"column\": \"BMI\"\n",
      "            },\n",
      "            \"metric_name\": \"column.min\",\n",
      "            \"metric_value_kwargs\": null\n",
      "          },\n",
      "          \"num_batches\": 1\n",
      "        }\n",
      "      },\n",
      "      \"kwargs\": {\n",
      "        \"column\": \"BMI\",\n",
      "        \"max_value\": 99,\n",
      "        \"min_value\": 0,\n",
      "        \"strict_max\": false,\n",
      "        \"strict_min\": false\n",
      "      }\n",
      "    },\n",
      "    {\n",
      "      \"expectation_type\": \"expect_column_median_to_be_between\",\n",
      "      \"meta\": {\n",
      "        \"profiler_details\": {\n",
      "          \"metric_configuration\": {\n",
      "            \"domain_kwargs\": {\n",
      "              \"column\": \"BMI\"\n",
      "            },\n",
      "            \"metric_name\": \"column.median\",\n",
      "            \"metric_value_kwargs\": null\n",
      "          },\n",
      "          \"num_batches\": 1\n",
      "        }\n",
      "      },\n",
      "      \"kwargs\": {\n",
      "        \"column\": \"BMI\",\n",
      "        \"max_value\": 99,\n",
      "        \"min_value\": 0,\n",
      "        \"strict_max\": false,\n",
      "        \"strict_min\": false\n",
      "      }\n",
      "    },\n",
      "    {\n",
      "      \"expectation_type\": \"expect_column_values_to_not_be_null\",\n",
      "      \"meta\": {\n",
      "        \"profiler_details\": {\n",
      "          \"metric_configuration\": {\n",
      "            \"domain_kwargs\": {\n",
      "              \"column\": \"HeavyAlcoholConsump\"\n",
      "            },\n",
      "            \"metric_name\": \"column_values.nonnull.unexpected_count\",\n",
      "            \"metric_value_kwargs\": null\n",
      "          },\n",
      "          \"num_batches\": 1\n",
      "        }\n",
      "      },\n",
      "      \"kwargs\": {\n",
      "        \"column\": \"HeavyAlcoholConsump\"\n",
      "      }\n",
      "    },\n",
      "    {\n",
      "      \"expectation_type\": \"expect_column_distinct_values_to_be_in_set\",\n",
      "      \"meta\": {\n",
      "        \"UserConfigurableProfiler\": {\n",
      "          \"confidence\": \"very low\"\n",
      "        }\n",
      "      },\n",
      "      \"kwargs\": {\n",
      "        \"column\": \"HeavyAlcoholConsump\",\n",
      "        \"value_set\": [\n",
      "          0,\n",
      "          1\n",
      "        ]\n",
      "      }\n",
      "    },\n",
      "    {\n",
      "      \"expectation_type\": \"expect_column_most_common_value_to_be_in_set\",\n",
      "      \"meta\": {\n",
      "        \"UserConfigurableProfiler\": {\n",
      "          \"confidence\": \"very low\"\n",
      "        }\n",
      "      },\n",
      "      \"kwargs\": {\n",
      "        \"column\": \"HeavyAlcoholConsump\",\n",
      "        \"value_set\": [\n",
      "          0,\n",
      "          1\n",
      "        ]\n",
      "      }\n",
      "    },\n",
      "    {\n",
      "      \"expectation_type\": \"expect_column_values_to_not_be_null\",\n",
      "      \"meta\": {\n",
      "        \"profiler_details\": {\n",
      "          \"metric_configuration\": {\n",
      "            \"domain_kwargs\": {\n",
      "              \"column\": \"Fruits\"\n",
      "            },\n",
      "            \"metric_name\": \"column_values.nonnull.unexpected_count\",\n",
      "            \"metric_value_kwargs\": null\n",
      "          },\n",
      "          \"num_batches\": 1\n",
      "        }\n",
      "      },\n",
      "      \"kwargs\": {\n",
      "        \"column\": \"Fruits\"\n",
      "      }\n",
      "    },\n",
      "    {\n",
      "      \"expectation_type\": \"expect_column_distinct_values_to_be_in_set\",\n",
      "      \"meta\": {\n",
      "        \"UserConfigurableProfiler\": {\n",
      "          \"confidence\": \"very low\"\n",
      "        }\n",
      "      },\n",
      "      \"kwargs\": {\n",
      "        \"column\": \"Fruits\",\n",
      "        \"value_set\": [\n",
      "          0,\n",
      "          1\n",
      "        ]\n",
      "      }\n",
      "    },\n",
      "    {\n",
      "      \"expectation_type\": \"expect_column_values_to_not_be_null\",\n",
      "      \"meta\": {\n",
      "        \"profiler_details\": {\n",
      "          \"metric_configuration\": {\n",
      "            \"domain_kwargs\": {\n",
      "              \"column\": \"PhysicalHlth\"\n",
      "            },\n",
      "            \"metric_name\": \"column_values.nonnull.unexpected_count\",\n",
      "            \"metric_value_kwargs\": null\n",
      "          },\n",
      "          \"num_batches\": 1\n",
      "        }\n",
      "      },\n",
      "      \"kwargs\": {\n",
      "        \"column\": \"PhysicalHlth\"\n",
      "      }\n",
      "    },\n",
      "    {\n",
      "      \"expectation_type\": \"expect_column_min_to_be_between\",\n",
      "      \"meta\": {\n",
      "        \"profiler_details\": {\n",
      "          \"metric_configuration\": {\n",
      "            \"domain_kwargs\": {\n",
      "              \"column\": \"PhysicalHlth\"\n",
      "            },\n",
      "            \"metric_name\": \"column.min\",\n",
      "            \"metric_value_kwargs\": null\n",
      "          },\n",
      "          \"num_batches\": 1\n",
      "        }\n",
      "      },\n",
      "      \"kwargs\": {\n",
      "        \"column\": \"PhysicalHlth\",\n",
      "        \"max_value\": 30,\n",
      "        \"min_value\": 0,\n",
      "        \"strict_max\": false,\n",
      "        \"strict_min\": false\n",
      "      }\n",
      "    },\n",
      "    {\n",
      "      \"expectation_type\": \"expect_column_median_to_be_between\",\n",
      "      \"meta\": {\n",
      "        \"profiler_details\": {\n",
      "          \"metric_configuration\": {\n",
      "            \"domain_kwargs\": {\n",
      "              \"column\": \"PhysicalHlth\"\n",
      "            },\n",
      "            \"metric_name\": \"column.median\",\n",
      "            \"metric_value_kwargs\": null\n",
      "          },\n",
      "          \"num_batches\": 1\n",
      "        }\n",
      "      },\n",
      "      \"kwargs\": {\n",
      "        \"column\": \"PhysicalHlth\",\n",
      "        \"max_value\": 30,\n",
      "        \"min_value\": 0,\n",
      "        \"strict_max\": false,\n",
      "        \"strict_min\": false\n",
      "      }\n",
      "    },\n",
      "    {\n",
      "      \"expectation_type\": \"expect_column_values_to_not_be_null\",\n",
      "      \"meta\": {\n",
      "        \"profiler_details\": {\n",
      "          \"metric_configuration\": {\n",
      "            \"domain_kwargs\": {\n",
      "              \"column\": \"GeneralHealth\"\n",
      "            },\n",
      "            \"metric_name\": \"column_values.nonnull.unexpected_count\",\n",
      "            \"metric_value_kwargs\": null\n",
      "          },\n",
      "          \"num_batches\": 1\n",
      "        }\n",
      "      },\n",
      "      \"kwargs\": {\n",
      "        \"column\": \"GeneralHealth\"\n",
      "      }\n",
      "    },\n",
      "    {\n",
      "      \"expectation_type\": \"expect_column_distinct_values_to_be_in_set\",\n",
      "      \"meta\": {\n",
      "        \"UserConfigurableProfiler\": {\n",
      "          \"confidence\": \"very low\"\n",
      "        }\n",
      "      },\n",
      "      \"kwargs\": {\n",
      "        \"column\": \"GeneralHealth\",\n",
      "        \"value_set\": [\n",
      "          1,\n",
      "          2,\n",
      "          3,\n",
      "          4,\n",
      "          5\n",
      "        ]\n",
      "      }\n",
      "    },\n",
      "    {\n",
      "      \"expectation_type\": \"expect_column_most_common_value_to_be_in_set\",\n",
      "      \"meta\": {\n",
      "        \"UserConfigurableProfiler\": {\n",
      "          \"confidence\": \"very low\"\n",
      "        }\n",
      "      },\n",
      "      \"kwargs\": {\n",
      "        \"column\": \"GeneralHealth\",\n",
      "        \"value_set\": [\n",
      "          1,\n",
      "          2,\n",
      "          3,\n",
      "          4,\n",
      "          5\n",
      "        ]\n",
      "      }\n",
      "    },\n",
      "    {\n",
      "      \"expectation_type\": \"expect_column_values_to_not_be_null\",\n",
      "      \"meta\": {\n",
      "        \"profiler_details\": {\n",
      "          \"metric_configuration\": {\n",
      "            \"domain_kwargs\": {\n",
      "              \"column\": \"Education\"\n",
      "            },\n",
      "            \"metric_name\": \"column_values.nonnull.unexpected_count\",\n",
      "            \"metric_value_kwargs\": null\n",
      "          },\n",
      "          \"num_batches\": 1\n",
      "        }\n",
      "      },\n",
      "      \"kwargs\": {\n",
      "        \"column\": \"Education\"\n",
      "      }\n",
      "    },\n",
      "    {\n",
      "      \"expectation_type\": \"expect_column_distinct_values_to_be_in_set\",\n",
      "      \"meta\": {\n",
      "        \"UserConfigurableProfiler\": {\n",
      "          \"confidence\": \"very low\"\n",
      "        }\n",
      "      },\n",
      "      \"kwargs\": {\n",
      "        \"column\": \"Education\",\n",
      "        \"value_set\": [\n",
      "          1,\n",
      "          2,\n",
      "          3,\n",
      "          4,\n",
      "          5,\n",
      "          6\n",
      "        ]\n",
      "      }\n",
      "    },\n",
      "    {\n",
      "      \"expectation_type\": \"expect_column_values_to_not_be_null\",\n",
      "      \"meta\": {\n",
      "        \"profiler_details\": {\n",
      "          \"metric_configuration\": {\n",
      "            \"domain_kwargs\": {\n",
      "              \"column\": \"Sex\"\n",
      "            },\n",
      "            \"metric_name\": \"column_values.nonnull.unexpected_count\",\n",
      "            \"metric_value_kwargs\": null\n",
      "          },\n",
      "          \"num_batches\": 1\n",
      "        }\n",
      "      },\n",
      "      \"kwargs\": {\n",
      "        \"column\": \"Sex\"\n",
      "      }\n",
      "    },\n",
      "    {\n",
      "      \"expectation_type\": \"expect_column_distinct_values_to_be_in_set\",\n",
      "      \"meta\": {\n",
      "        \"UserConfigurableProfiler\": {\n",
      "          \"confidence\": \"very low\"\n",
      "        }\n",
      "      },\n",
      "      \"kwargs\": {\n",
      "        \"column\": \"Sex\",\n",
      "        \"value_set\": [\n",
      "          0,\n",
      "          1\n",
      "        ]\n",
      "      }\n",
      "    },\n",
      "    {\n",
      "      \"expectation_type\": \"expect_column_values_to_not_be_null\",\n",
      "      \"meta\": {\n",
      "        \"profiler_details\": {\n",
      "          \"metric_configuration\": {\n",
      "            \"domain_kwargs\": {\n",
      "              \"column\": \"PhysicalActivity\"\n",
      "            },\n",
      "            \"metric_name\": \"column_values.nonnull.unexpected_count\",\n",
      "            \"metric_value_kwargs\": null\n",
      "          },\n",
      "          \"num_batches\": 1\n",
      "        }\n",
      "      },\n",
      "      \"kwargs\": {\n",
      "        \"column\": \"PhysicalActivity\"\n",
      "      }\n",
      "    },\n",
      "    {\n",
      "      \"expectation_type\": \"expect_column_distinct_values_to_be_in_set\",\n",
      "      \"meta\": {\n",
      "        \"UserConfigurableProfiler\": {\n",
      "          \"confidence\": \"very low\"\n",
      "        }\n",
      "      },\n",
      "      \"kwargs\": {\n",
      "        \"column\": \"PhysicalActivity\",\n",
      "        \"value_set\": [\n",
      "          0,\n",
      "          1\n",
      "        ]\n",
      "      }\n",
      "    },\n",
      "    {\n",
      "      \"expectation_type\": \"expect_column_values_to_not_be_null\",\n",
      "      \"meta\": {\n",
      "        \"profiler_details\": {\n",
      "          \"metric_configuration\": {\n",
      "            \"domain_kwargs\": {\n",
      "              \"column\": \"Smoker\"\n",
      "            },\n",
      "            \"metric_name\": \"column_values.nonnull.unexpected_count\",\n",
      "            \"metric_value_kwargs\": null\n",
      "          },\n",
      "          \"num_batches\": 1\n",
      "        }\n",
      "      },\n",
      "      \"kwargs\": {\n",
      "        \"column\": \"Smoker\"\n",
      "      }\n",
      "    },\n",
      "    {\n",
      "      \"expectation_type\": \"expect_column_distinct_values_to_be_in_set\",\n",
      "      \"meta\": {\n",
      "        \"UserConfigurableProfiler\": {\n",
      "          \"confidence\": \"very low\"\n",
      "        }\n",
      "      },\n",
      "      \"kwargs\": {\n",
      "        \"column\": \"Smoker\",\n",
      "        \"value_set\": [\n",
      "          0,\n",
      "          1\n",
      "        ]\n",
      "      }\n",
      "    },\n",
      "    {\n",
      "      \"expectation_type\": \"expect_column_values_to_not_be_null\",\n",
      "      \"meta\": {\n",
      "        \"profiler_details\": {\n",
      "          \"metric_configuration\": {\n",
      "            \"domain_kwargs\": {\n",
      "              \"column\": \"AnyHealthcare\"\n",
      "            },\n",
      "            \"metric_name\": \"column_values.nonnull.unexpected_count\",\n",
      "            \"metric_value_kwargs\": null\n",
      "          },\n",
      "          \"num_batches\": 1\n",
      "        }\n",
      "      },\n",
      "      \"kwargs\": {\n",
      "        \"column\": \"AnyHealthcare\"\n",
      "      }\n",
      "    },\n",
      "    {\n",
      "      \"expectation_type\": \"expect_column_distinct_values_to_be_in_set\",\n",
      "      \"meta\": {\n",
      "        \"UserConfigurableProfiler\": {\n",
      "          \"confidence\": \"very low\"\n",
      "        }\n",
      "      },\n",
      "      \"kwargs\": {\n",
      "        \"column\": \"AnyHealthcare\",\n",
      "        \"value_set\": [\n",
      "          0,\n",
      "          1\n",
      "        ]\n",
      "      }\n",
      "    },\n",
      "    {\n",
      "      \"expectation_type\": \"expect_column_values_to_not_be_null\",\n",
      "      \"meta\": {\n",
      "        \"profiler_details\": {\n",
      "          \"metric_configuration\": {\n",
      "            \"domain_kwargs\": {\n",
      "              \"column\": \"HighBP\"\n",
      "            },\n",
      "            \"metric_name\": \"column_values.nonnull.unexpected_count\",\n",
      "            \"metric_value_kwargs\": null\n",
      "          },\n",
      "          \"num_batches\": 1\n",
      "        }\n",
      "      },\n",
      "      \"kwargs\": {\n",
      "        \"column\": \"HighBP\"\n",
      "      }\n",
      "    },\n",
      "    {\n",
      "      \"expectation_type\": \"expect_column_distinct_values_to_be_in_set\",\n",
      "      \"meta\": {\n",
      "        \"UserConfigurableProfiler\": {\n",
      "          \"confidence\": \"very low\"\n",
      "        }\n",
      "      },\n",
      "      \"kwargs\": {\n",
      "        \"column\": \"HighBP\",\n",
      "        \"value_set\": [\n",
      "          0,\n",
      "          1\n",
      "        ]\n",
      "      }\n",
      "    },\n",
      "    {\n",
      "      \"expectation_type\": \"expect_column_values_to_not_be_null\",\n",
      "      \"meta\": {\n",
      "        \"profiler_details\": {\n",
      "          \"metric_configuration\": {\n",
      "            \"domain_kwargs\": {\n",
      "              \"column\": \"HighCholesterol\"\n",
      "            },\n",
      "            \"metric_name\": \"column_values.nonnull.unexpected_count\",\n",
      "            \"metric_value_kwargs\": null\n",
      "          },\n",
      "          \"num_batches\": 1\n",
      "        }\n",
      "      },\n",
      "      \"kwargs\": {\n",
      "        \"column\": \"HighCholesterol\"\n",
      "      }\n",
      "    },\n",
      "    {\n",
      "      \"expectation_type\": \"expect_column_distinct_values_to_be_in_set\",\n",
      "      \"meta\": {\n",
      "        \"UserConfigurableProfiler\": {\n",
      "          \"confidence\": \"very low\"\n",
      "        }\n",
      "      },\n",
      "      \"kwargs\": {\n",
      "        \"column\": \"HighCholesterol\",\n",
      "        \"value_set\": [\n",
      "          0,\n",
      "          1\n",
      "        ]\n",
      "      }\n",
      "    },\n",
      "    {\n",
      "      \"expectation_type\": \"expect_column_values_to_not_be_null\",\n",
      "      \"meta\": {\n",
      "        \"profiler_details\": {\n",
      "          \"metric_configuration\": {\n",
      "            \"domain_kwargs\": {\n",
      "              \"column\": \"HeartDiseaseorAttack\"\n",
      "            },\n",
      "            \"metric_name\": \"column_values.nonnull.unexpected_count\",\n",
      "            \"metric_value_kwargs\": null\n",
      "          },\n",
      "          \"num_batches\": 1\n",
      "        }\n",
      "      },\n",
      "      \"kwargs\": {\n",
      "        \"column\": \"HeartDiseaseorAttack\"\n",
      "      }\n",
      "    },\n",
      "    {\n",
      "      \"expectation_type\": \"expect_column_most_common_value_to_be_in_set\",\n",
      "      \"meta\": {\n",
      "        \"UserConfigurableProfiler\": {\n",
      "          \"confidence\": \"very low\"\n",
      "        }\n",
      "      },\n",
      "      \"kwargs\": {\n",
      "        \"column\": \"HeartDiseaseorAttack\",\n",
      "        \"value_set\": [\n",
      "          0,\n",
      "          1\n",
      "        ]\n",
      "      }\n",
      "    },\n",
      "    {\n",
      "      \"expectation_type\": \"expect_column_values_to_not_be_null\",\n",
      "      \"meta\": {\n",
      "        \"profiler_details\": {\n",
      "          \"metric_configuration\": {\n",
      "            \"domain_kwargs\": {\n",
      "              \"column\": \"Asthama\"\n",
      "            },\n",
      "            \"metric_name\": \"column_values.nonnull.unexpected_count\",\n",
      "            \"metric_value_kwargs\": null\n",
      "          },\n",
      "          \"num_batches\": 1\n",
      "        }\n",
      "      },\n",
      "      \"kwargs\": {\n",
      "        \"column\": \"Asthama\"\n",
      "      }\n",
      "    },\n",
      "    {\n",
      "      \"expectation_type\": \"expect_column_distinct_values_to_be_in_set\",\n",
      "      \"meta\": {\n",
      "        \"UserConfigurableProfiler\": {\n",
      "          \"confidence\": \"very low\"\n",
      "        }\n",
      "      },\n",
      "      \"kwargs\": {\n",
      "        \"column\": \"Asthama\",\n",
      "        \"value_set\": [\n",
      "          0,\n",
      "          1\n",
      "        ]\n",
      "      }\n",
      "    },\n",
      "    {\n",
      "      \"expectation_type\": \"expect_column_values_to_not_be_null\",\n",
      "      \"meta\": {\n",
      "        \"profiler_details\": {\n",
      "          \"metric_configuration\": {\n",
      "            \"domain_kwargs\": {\n",
      "              \"column\": \"DifficultyWalk\"\n",
      "            },\n",
      "            \"metric_name\": \"column_values.nonnull.unexpected_count\",\n",
      "            \"metric_value_kwargs\": null\n",
      "          },\n",
      "          \"num_batches\": 1\n",
      "        }\n",
      "      },\n",
      "      \"kwargs\": {\n",
      "        \"column\": \"DifficultyWalk\"\n",
      "      }\n",
      "    },\n",
      "    {\n",
      "      \"expectation_type\": \"expect_column_distinct_values_to_be_in_set\",\n",
      "      \"meta\": {\n",
      "        \"UserConfigurableProfiler\": {\n",
      "          \"confidence\": \"very low\"\n",
      "        }\n",
      "      },\n",
      "      \"kwargs\": {\n",
      "        \"column\": \"DifficultyWalk\",\n",
      "        \"value_set\": [\n",
      "          0,\n",
      "          1\n",
      "        ]\n",
      "      }\n",
      "    },\n",
      "    {\n",
      "      \"expectation_type\": \"expect_column_values_to_not_be_null\",\n",
      "      \"meta\": {\n",
      "        \"profiler_details\": {\n",
      "          \"metric_configuration\": {\n",
      "            \"domain_kwargs\": {\n",
      "              \"column\": \"KidneyDisease\"\n",
      "            },\n",
      "            \"metric_name\": \"column_values.nonnull.unexpected_count\",\n",
      "            \"metric_value_kwargs\": null\n",
      "          },\n",
      "          \"num_batches\": 1\n",
      "        }\n",
      "      },\n",
      "      \"kwargs\": {\n",
      "        \"column\": \"KidneyDisease\"\n",
      "      }\n",
      "    },\n",
      "    {\n",
      "      \"expectation_type\": \"expect_column_distinct_values_to_be_in_set\",\n",
      "      \"meta\": {\n",
      "        \"UserConfigurableProfiler\": {\n",
      "          \"confidence\": \"very low\"\n",
      "        }\n",
      "      },\n",
      "      \"kwargs\": {\n",
      "        \"column\": \"KidneyDisease\",\n",
      "        \"value_set\": [\n",
      "          0,\n",
      "          1\n",
      "        ]\n",
      "      }\n",
      "    },\n",
      "    {\n",
      "      \"expectation_type\": \"expect_column_values_to_not_be_null\",\n",
      "      \"meta\": {\n",
      "        \"profiler_details\": {\n",
      "          \"metric_configuration\": {\n",
      "            \"domain_kwargs\": {\n",
      "              \"column\": \"Obese\"\n",
      "            },\n",
      "            \"metric_name\": \"column_values.nonnull.unexpected_count\",\n",
      "            \"metric_value_kwargs\": null\n",
      "          },\n",
      "          \"num_batches\": 1\n",
      "        }\n",
      "      },\n",
      "      \"kwargs\": {\n",
      "        \"column\": \"Obese\"\n",
      "      }\n",
      "    },\n",
      "    {\n",
      "      \"expectation_type\": \"expect_column_distinct_values_to_be_in_set\",\n",
      "      \"meta\": {\n",
      "        \"UserConfigurableProfiler\": {\n",
      "          \"confidence\": \"very low\"\n",
      "        }\n",
      "      },\n",
      "      \"kwargs\": {\n",
      "        \"column\": \"Obese\",\n",
      "        \"value_set\": [\n",
      "          0,\n",
      "          1\n",
      "        ]\n",
      "      }\n",
      "    },\n",
      "    {\n",
      "      \"expectation_type\": \"expect_column_values_to_not_be_null\",\n",
      "      \"meta\": {\n",
      "        \"profiler_details\": {\n",
      "          \"metric_configuration\": {\n",
      "            \"domain_kwargs\": {\n",
      "              \"column\": \"Veggies\"\n",
      "            },\n",
      "            \"metric_name\": \"column_values.nonnull.unexpected_count\",\n",
      "            \"metric_value_kwargs\": null\n",
      "          },\n",
      "          \"num_batches\": 1\n",
      "        }\n",
      "      },\n",
      "      \"kwargs\": {\n",
      "        \"column\": \"Veggies\"\n",
      "      }\n",
      "    },\n",
      "    {\n",
      "      \"expectation_type\": \"expect_column_distinct_values_to_be_in_set\",\n",
      "      \"meta\": {\n",
      "        \"UserConfigurableProfiler\": {\n",
      "          \"confidence\": \"very low\"\n",
      "        }\n",
      "      },\n",
      "      \"kwargs\": {\n",
      "        \"column\": \"Veggies\",\n",
      "        \"value_set\": [\n",
      "          0,\n",
      "          1\n",
      "        ]\n",
      "      }\n",
      "    },\n",
      "    {\n",
      "      \"expectation_type\": \"expect_column_values_to_not_be_null\",\n",
      "      \"meta\": {\n",
      "        \"profiler_details\": {\n",
      "          \"metric_configuration\": {\n",
      "            \"domain_kwargs\": {\n",
      "              \"column\": \"SkinCancer\"\n",
      "            },\n",
      "            \"metric_name\": \"column_values.nonnull.unexpected_count\",\n",
      "            \"metric_value_kwargs\": null\n",
      "          },\n",
      "          \"num_batches\": 1\n",
      "        }\n",
      "      },\n",
      "      \"kwargs\": {\n",
      "        \"column\": \"SkinCancer\"\n",
      "      }\n",
      "    },\n",
      "    {\n",
      "      \"expectation_type\": \"expect_column_distinct_values_to_be_in_set\",\n",
      "      \"meta\": {\n",
      "        \"UserConfigurableProfiler\": {\n",
      "          \"confidence\": \"very low\"\n",
      "        }\n",
      "      },\n",
      "      \"kwargs\": {\n",
      "        \"column\": \"SkinCancer\",\n",
      "        \"value_set\": [\n",
      "          0,\n",
      "          1\n",
      "        ]\n",
      "      }\n",
      "    },\n",
      "    {\n",
      "      \"expectation_type\": \"expect_column_values_to_not_be_null\",\n",
      "      \"meta\": {\n",
      "        \"profiler_details\": {\n",
      "          \"metric_configuration\": {\n",
      "            \"domain_kwargs\": {\n",
      "              \"column\": \"NoDocbcozCost\"\n",
      "            },\n",
      "            \"metric_name\": \"column_values.nonnull.unexpected_count\",\n",
      "            \"metric_value_kwargs\": null\n",
      "          },\n",
      "          \"num_batches\": 1\n",
      "        }\n",
      "      },\n",
      "      \"kwargs\": {\n",
      "        \"column\": \"NoDocbcozCost\"\n",
      "      }\n",
      "    },\n",
      "    {\n",
      "      \"expectation_type\": \"expect_column_distinct_values_to_be_in_set\",\n",
      "      \"meta\": {\n",
      "        \"UserConfigurableProfiler\": {\n",
      "          \"confidence\": \"very low\"\n",
      "        }\n",
      "      },\n",
      "      \"kwargs\": {\n",
      "        \"column\": \"NoDocbcozCost\",\n",
      "        \"value_set\": [\n",
      "          0,\n",
      "          1\n",
      "        ]\n",
      "      }\n",
      "    },\n",
      "    {\n",
      "      \"expectation_type\": \"expect_column_values_to_not_be_null\",\n",
      "      \"meta\": {\n",
      "        \"profiler_details\": {\n",
      "          \"metric_configuration\": {\n",
      "            \"domain_kwargs\": {\n",
      "              \"column\": \"CholesterolCheck\"\n",
      "            },\n",
      "            \"metric_name\": \"column_values.nonnull.unexpected_count\",\n",
      "            \"metric_value_kwargs\": null\n",
      "          },\n",
      "          \"num_batches\": 1\n",
      "        }\n",
      "      },\n",
      "      \"kwargs\": {\n",
      "        \"column\": \"CholesterolCheck\"\n",
      "      }\n",
      "    },\n",
      "    {\n",
      "      \"expectation_type\": \"expect_column_distinct_values_to_be_in_set\",\n",
      "      \"meta\": {\n",
      "        \"UserConfigurableProfiler\": {\n",
      "          \"confidence\": \"very low\"\n",
      "        }\n",
      "      },\n",
      "      \"kwargs\": {\n",
      "        \"column\": \"CholesterolCheck\",\n",
      "        \"value_set\": [\n",
      "          0,\n",
      "          1\n",
      "        ]\n",
      "      }\n",
      "    },\n",
      "    {\n",
      "      \"expectation_type\": \"expect_column_values_to_not_be_null\",\n",
      "      \"meta\": {\n",
      "        \"profiler_details\": {\n",
      "          \"metric_configuration\": {\n",
      "            \"domain_kwargs\": {\n",
      "              \"column\": \"Income\"\n",
      "            },\n",
      "            \"metric_name\": \"column_values.nonnull.unexpected_count\",\n",
      "            \"metric_value_kwargs\": null\n",
      "          },\n",
      "          \"num_batches\": 1\n",
      "        }\n",
      "      },\n",
      "      \"kwargs\": {\n",
      "        \"column\": \"Income\"\n",
      "      }\n",
      "    },\n",
      "    {\n",
      "      \"expectation_type\": \"expect_column_distinct_values_to_be_in_set\",\n",
      "      \"meta\": {\n",
      "        \"UserConfigurableProfiler\": {\n",
      "          \"confidence\": \"very low\"\n",
      "        }\n",
      "      },\n",
      "      \"kwargs\": {\n",
      "        \"column\": \"Income\",\n",
      "        \"value_set\": [\n",
      "          1.0,\n",
      "          2.0,\n",
      "          3.0,\n",
      "          4.0,\n",
      "          5.0,\n",
      "          6.0,\n",
      "          7.0,\n",
      "          8.0,\n",
      "          9.0,\n",
      "          10.0,\n",
      "          11.0\n",
      "        ]\n",
      "      }\n",
      "    },\n",
      "    {\n",
      "      \"expectation_type\": \"expect_column_values_to_not_be_null\",\n",
      "      \"meta\": {\n",
      "        \"profiler_details\": {\n",
      "          \"metric_configuration\": {\n",
      "            \"domain_kwargs\": {\n",
      "              \"column\": \"MentalHealth\"\n",
      "            },\n",
      "            \"metric_name\": \"column_values.nonnull.unexpected_count\",\n",
      "            \"metric_value_kwargs\": null\n",
      "          },\n",
      "          \"num_batches\": 1\n",
      "        }\n",
      "      },\n",
      "      \"kwargs\": {\n",
      "        \"column\": \"MentalHealth\"\n",
      "      }\n",
      "    },\n",
      "    {\n",
      "      \"expectation_type\": \"expect_column_min_to_be_between\",\n",
      "      \"meta\": {\n",
      "        \"profiler_details\": {\n",
      "          \"metric_configuration\": {\n",
      "            \"domain_kwargs\": {\n",
      "              \"column\": \"MentalHealth\"\n",
      "            },\n",
      "            \"metric_name\": \"column.min\",\n",
      "            \"metric_value_kwargs\": null\n",
      "          },\n",
      "          \"num_batches\": 1\n",
      "        }\n",
      "      },\n",
      "      \"kwargs\": {\n",
      "        \"column\": \"MentalHealth\",\n",
      "        \"max_value\": 30,\n",
      "        \"min_value\": 0,\n",
      "        \"strict_max\": false,\n",
      "        \"strict_min\": false\n",
      "      }\n",
      "    },\n",
      "    {\n",
      "      \"expectation_type\": \"expect_column_median_to_be_between\",\n",
      "      \"meta\": {\n",
      "        \"profiler_details\": {\n",
      "          \"metric_configuration\": {\n",
      "            \"domain_kwargs\": {\n",
      "              \"column\": \"MentalHealth\"\n",
      "            },\n",
      "            \"metric_name\": \"column.median\",\n",
      "            \"metric_value_kwargs\": null\n",
      "          },\n",
      "          \"num_batches\": 1\n",
      "        }\n",
      "      },\n",
      "      \"kwargs\": {\n",
      "        \"column\": \"MentalHealth\",\n",
      "        \"max_value\": 30,\n",
      "        \"min_value\": 0,\n",
      "        \"strict_max\": false,\n",
      "        \"strict_min\": false\n",
      "      }\n",
      "    }\n",
      "  ],\n",
      "  \"expectation_suite_name\": \"heartCleaned_suite\"\n",
      "}\n"
     ]
    }
   ],
   "source": [
    "print(context.get_expectation_suite(expectation_suite_name=expectation_suite_name))\n",
    "context.add_or_update_expectation_suite(expectation_suite=suite)\n",
    "\n",
    "suite_identifier = ExpectationSuiteIdentifier(expectation_suite_name=expectation_suite_name)\n",
    "context.build_data_docs(resource_identifiers=[suite_identifier])\n",
    "context.open_data_docs(resource_identifier=suite_identifier)"
   ]
  }
 ],
 "metadata": {
  "kernelspec": {
   "display_name": "Python 3 (ipykernel)",
   "language": "python",
   "name": "python3"
  },
  "language_info": {
   "codemirror_mode": {
    "name": "ipython",
    "version": 3
   },
   "file_extension": ".py",
   "mimetype": "text/x-python",
   "name": "python",
   "nbconvert_exporter": "python",
   "pygments_lexer": "ipython3",
   "version": "3.9.12"
  }
 },
 "nbformat": 4,
 "nbformat_minor": 5
}
